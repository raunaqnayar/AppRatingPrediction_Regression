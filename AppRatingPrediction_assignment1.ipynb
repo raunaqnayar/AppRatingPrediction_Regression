{
 "cells": [
  {
   "cell_type": "markdown",
   "metadata": {},
   "source": [
    "# Code to read file containing features related to mobile applications from csv file and estimate app ratings"
   ]
  },
  {
   "cell_type": "code",
   "execution_count": 1,
   "metadata": {},
   "outputs": [],
   "source": [
    "import pandas as pd;\n",
    "import numpy as np;\n",
    "import seaborn as sns;\n",
    "import matplotlib.pyplot as plt;"
   ]
  },
  {
   "cell_type": "markdown",
   "metadata": {},
   "source": [
    "### 1. Load the data file using pandas. "
   ]
  },
  {
   "cell_type": "code",
   "execution_count": 2,
   "metadata": {},
   "outputs": [],
   "source": [
    "app_data=pd.read_csv('googleplaystore.csv')"
   ]
  },
  {
   "cell_type": "markdown",
   "metadata": {},
   "source": [
    "### 2. Check for null values in the data. Get the number of null values for each column."
   ]
  },
  {
   "cell_type": "code",
   "execution_count": 3,
   "metadata": {},
   "outputs": [
    {
     "name": "stdout",
     "output_type": "stream",
     "text": [
      "<class 'pandas.core.frame.DataFrame'>\n",
      "RangeIndex: 10841 entries, 0 to 10840\n",
      "Data columns (total 13 columns):\n",
      " #   Column          Non-Null Count  Dtype  \n",
      "---  ------          --------------  -----  \n",
      " 0   App             10841 non-null  object \n",
      " 1   Category        10841 non-null  object \n",
      " 2   Rating          9367 non-null   float64\n",
      " 3   Reviews         10841 non-null  object \n",
      " 4   Size            10841 non-null  object \n",
      " 5   Installs        10841 non-null  object \n",
      " 6   Type            10840 non-null  object \n",
      " 7   Price           10841 non-null  object \n",
      " 8   Content Rating  10840 non-null  object \n",
      " 9   Genres          10841 non-null  object \n",
      " 10  Last Updated    10841 non-null  object \n",
      " 11  Current Ver     10833 non-null  object \n",
      " 12  Android Ver     10838 non-null  object \n",
      "dtypes: float64(1), object(12)\n",
      "memory usage: 1.1+ MB\n"
     ]
    }
   ],
   "source": [
    "app_data.info()"
   ]
  },
  {
   "cell_type": "markdown",
   "metadata": {},
   "source": [
    "#### Since there are total 10841 entries and \"Rating\", \"Type\", \"Content Rating\" , \"Current Ver\" and \"Android Ver\" columns have less than 10841 non-null values, it implies that these columns have null values. Other columns do not have null values"
   ]
  },
  {
   "cell_type": "code",
   "execution_count": 4,
   "metadata": {},
   "outputs": [
    {
     "name": "stdout",
     "output_type": "stream",
     "text": [
      "Number of null values in the column 'App' are :\t0\n",
      "Number of null values in the column 'Category' are :\t0\n",
      "Number of null values in the column 'Rating' are :\t1474\n",
      "Number of null values in the column 'Reviews' are :\t0\n",
      "Number of null values in the column 'Size' are :\t0\n",
      "Number of null values in the column 'Installs' are :\t0\n",
      "Number of null values in the column 'Type' are :\t1\n",
      "Number of null values in the column 'Price' are :\t0\n",
      "Number of null values in the column 'Content Rating' are :\t1\n",
      "Number of null values in the column 'Genres' are :\t0\n",
      "Number of null values in the column 'Last Updated' are :\t0\n",
      "Number of null values in the column 'Current Ver' are :\t8\n",
      "Number of null values in the column 'Android Ver' are :\t3\n"
     ]
    }
   ],
   "source": [
    "for i in app_data.columns:\n",
    "    print(\"Number of null values in the column '\"+i+\"' are :\\t\"+str(len(app_data[app_data[i].isna()])))"
   ]
  },
  {
   "cell_type": "markdown",
   "metadata": {},
   "source": [
    "### 3. Drop records with nulls in any of the columns. "
   ]
  },
  {
   "cell_type": "code",
   "execution_count": 5,
   "metadata": {},
   "outputs": [],
   "source": [
    "app_data.dropna(inplace=True)\n",
    "app_data.reset_index(inplace=True,drop=True)"
   ]
  },
  {
   "cell_type": "code",
   "execution_count": 6,
   "metadata": {},
   "outputs": [
    {
     "name": "stdout",
     "output_type": "stream",
     "text": [
      "<class 'pandas.core.frame.DataFrame'>\n",
      "RangeIndex: 9360 entries, 0 to 9359\n",
      "Data columns (total 13 columns):\n",
      " #   Column          Non-Null Count  Dtype  \n",
      "---  ------          --------------  -----  \n",
      " 0   App             9360 non-null   object \n",
      " 1   Category        9360 non-null   object \n",
      " 2   Rating          9360 non-null   float64\n",
      " 3   Reviews         9360 non-null   object \n",
      " 4   Size            9360 non-null   object \n",
      " 5   Installs        9360 non-null   object \n",
      " 6   Type            9360 non-null   object \n",
      " 7   Price           9360 non-null   object \n",
      " 8   Content Rating  9360 non-null   object \n",
      " 9   Genres          9360 non-null   object \n",
      " 10  Last Updated    9360 non-null   object \n",
      " 11  Current Ver     9360 non-null   object \n",
      " 12  Android Ver     9360 non-null   object \n",
      "dtypes: float64(1), object(12)\n",
      "memory usage: 950.8+ KB\n"
     ]
    }
   ],
   "source": [
    "app_data.info()"
   ]
  },
  {
   "cell_type": "markdown",
   "metadata": {},
   "source": [
    "### 4. Variables seem to have incorrect type and inconsistent formatting. You need to fix them: "
   ]
  },
  {
   "cell_type": "markdown",
   "metadata": {},
   "source": [
    "* Size column has sizes in Kb as well as Mb. To analyze, you’ll need to convert these to numeric.\n",
    "\n",
    "1. Extract the numeric value from the column\n",
    "2. Multiply the value by 1,000, if size is mentioned in Mb"
   ]
  },
  {
   "cell_type": "code",
   "execution_count": 7,
   "metadata": {},
   "outputs": [
    {
     "data": {
      "text/plain": [
       "Varies with device    1637\n",
       "14M                    165\n",
       "12M                    161\n",
       "15M                    159\n",
       "11M                    159\n",
       "                      ... \n",
       "383k                     1\n",
       "454k                     1\n",
       "812k                     1\n",
       "442k                     1\n",
       "619k                     1\n",
       "Name: Size, Length: 413, dtype: int64"
      ]
     },
     "execution_count": 7,
     "metadata": {},
     "output_type": "execute_result"
    }
   ],
   "source": [
    "app_data['Size'].value_counts()"
   ]
  },
  {
   "cell_type": "markdown",
   "metadata": {},
   "source": [
    "#### Consider Size = 'varies with device' as unknown and drop the rows"
   ]
  },
  {
   "cell_type": "code",
   "execution_count": 8,
   "metadata": {
    "scrolled": false
   },
   "outputs": [],
   "source": [
    "app_data['Size']=app_data['Size'].apply(lambda val: val[:-1] if val[-1]=='k' else val[:-1]+'000' if val[-1]=='M' else '0').astype('float')"
   ]
  },
  {
   "cell_type": "code",
   "execution_count": 9,
   "metadata": {},
   "outputs": [],
   "source": [
    "app_data.drop(index=app_data[app_data['Size']==0].index,inplace=True);\n",
    "app_data.reset_index(inplace=True,drop=True)"
   ]
  },
  {
   "cell_type": "code",
   "execution_count": 10,
   "metadata": {},
   "outputs": [
    {
     "data": {
      "text/html": [
       "<div>\n",
       "<style scoped>\n",
       "    .dataframe tbody tr th:only-of-type {\n",
       "        vertical-align: middle;\n",
       "    }\n",
       "\n",
       "    .dataframe tbody tr th {\n",
       "        vertical-align: top;\n",
       "    }\n",
       "\n",
       "    .dataframe thead th {\n",
       "        text-align: right;\n",
       "    }\n",
       "</style>\n",
       "<table border=\"1\" class=\"dataframe\">\n",
       "  <thead>\n",
       "    <tr style=\"text-align: right;\">\n",
       "      <th></th>\n",
       "      <th>App</th>\n",
       "      <th>Category</th>\n",
       "      <th>Rating</th>\n",
       "      <th>Reviews</th>\n",
       "      <th>Size</th>\n",
       "      <th>Installs</th>\n",
       "      <th>Type</th>\n",
       "      <th>Price</th>\n",
       "      <th>Content Rating</th>\n",
       "      <th>Genres</th>\n",
       "      <th>Last Updated</th>\n",
       "      <th>Current Ver</th>\n",
       "      <th>Android Ver</th>\n",
       "    </tr>\n",
       "  </thead>\n",
       "  <tbody>\n",
       "    <tr>\n",
       "      <th>0</th>\n",
       "      <td>Photo Editor &amp; Candy Camera &amp; Grid &amp; ScrapBook</td>\n",
       "      <td>ART_AND_DESIGN</td>\n",
       "      <td>4.1</td>\n",
       "      <td>159</td>\n",
       "      <td>19000.0</td>\n",
       "      <td>10,000+</td>\n",
       "      <td>Free</td>\n",
       "      <td>0</td>\n",
       "      <td>Everyone</td>\n",
       "      <td>Art &amp; Design</td>\n",
       "      <td>January 7, 2018</td>\n",
       "      <td>1.0.0</td>\n",
       "      <td>4.0.3 and up</td>\n",
       "    </tr>\n",
       "    <tr>\n",
       "      <th>1</th>\n",
       "      <td>Coloring book moana</td>\n",
       "      <td>ART_AND_DESIGN</td>\n",
       "      <td>3.9</td>\n",
       "      <td>967</td>\n",
       "      <td>14000.0</td>\n",
       "      <td>500,000+</td>\n",
       "      <td>Free</td>\n",
       "      <td>0</td>\n",
       "      <td>Everyone</td>\n",
       "      <td>Art &amp; Design;Pretend Play</td>\n",
       "      <td>January 15, 2018</td>\n",
       "      <td>2.0.0</td>\n",
       "      <td>4.0.3 and up</td>\n",
       "    </tr>\n",
       "    <tr>\n",
       "      <th>2</th>\n",
       "      <td>U Launcher Lite – FREE Live Cool Themes, Hide ...</td>\n",
       "      <td>ART_AND_DESIGN</td>\n",
       "      <td>4.7</td>\n",
       "      <td>87510</td>\n",
       "      <td>8.7</td>\n",
       "      <td>5,000,000+</td>\n",
       "      <td>Free</td>\n",
       "      <td>0</td>\n",
       "      <td>Everyone</td>\n",
       "      <td>Art &amp; Design</td>\n",
       "      <td>August 1, 2018</td>\n",
       "      <td>1.2.4</td>\n",
       "      <td>4.0.3 and up</td>\n",
       "    </tr>\n",
       "    <tr>\n",
       "      <th>3</th>\n",
       "      <td>Sketch - Draw &amp; Paint</td>\n",
       "      <td>ART_AND_DESIGN</td>\n",
       "      <td>4.5</td>\n",
       "      <td>215644</td>\n",
       "      <td>25000.0</td>\n",
       "      <td>50,000,000+</td>\n",
       "      <td>Free</td>\n",
       "      <td>0</td>\n",
       "      <td>Teen</td>\n",
       "      <td>Art &amp; Design</td>\n",
       "      <td>June 8, 2018</td>\n",
       "      <td>Varies with device</td>\n",
       "      <td>4.2 and up</td>\n",
       "    </tr>\n",
       "    <tr>\n",
       "      <th>4</th>\n",
       "      <td>Pixel Draw - Number Art Coloring Book</td>\n",
       "      <td>ART_AND_DESIGN</td>\n",
       "      <td>4.3</td>\n",
       "      <td>967</td>\n",
       "      <td>2.8</td>\n",
       "      <td>100,000+</td>\n",
       "      <td>Free</td>\n",
       "      <td>0</td>\n",
       "      <td>Everyone</td>\n",
       "      <td>Art &amp; Design;Creativity</td>\n",
       "      <td>June 20, 2018</td>\n",
       "      <td>1.1</td>\n",
       "      <td>4.4 and up</td>\n",
       "    </tr>\n",
       "    <tr>\n",
       "      <th>...</th>\n",
       "      <td>...</td>\n",
       "      <td>...</td>\n",
       "      <td>...</td>\n",
       "      <td>...</td>\n",
       "      <td>...</td>\n",
       "      <td>...</td>\n",
       "      <td>...</td>\n",
       "      <td>...</td>\n",
       "      <td>...</td>\n",
       "      <td>...</td>\n",
       "      <td>...</td>\n",
       "      <td>...</td>\n",
       "      <td>...</td>\n",
       "    </tr>\n",
       "    <tr>\n",
       "      <th>7718</th>\n",
       "      <td>Chemin (fr)</td>\n",
       "      <td>BOOKS_AND_REFERENCE</td>\n",
       "      <td>4.8</td>\n",
       "      <td>44</td>\n",
       "      <td>619.0</td>\n",
       "      <td>1,000+</td>\n",
       "      <td>Free</td>\n",
       "      <td>0</td>\n",
       "      <td>Everyone</td>\n",
       "      <td>Books &amp; Reference</td>\n",
       "      <td>March 23, 2014</td>\n",
       "      <td>0.8</td>\n",
       "      <td>2.2 and up</td>\n",
       "    </tr>\n",
       "    <tr>\n",
       "      <th>7719</th>\n",
       "      <td>FR Calculator</td>\n",
       "      <td>FAMILY</td>\n",
       "      <td>4.0</td>\n",
       "      <td>7</td>\n",
       "      <td>2.6</td>\n",
       "      <td>500+</td>\n",
       "      <td>Free</td>\n",
       "      <td>0</td>\n",
       "      <td>Everyone</td>\n",
       "      <td>Education</td>\n",
       "      <td>June 18, 2017</td>\n",
       "      <td>1.0.0</td>\n",
       "      <td>4.1 and up</td>\n",
       "    </tr>\n",
       "    <tr>\n",
       "      <th>7720</th>\n",
       "      <td>Sya9a Maroc - FR</td>\n",
       "      <td>FAMILY</td>\n",
       "      <td>4.5</td>\n",
       "      <td>38</td>\n",
       "      <td>53000.0</td>\n",
       "      <td>5,000+</td>\n",
       "      <td>Free</td>\n",
       "      <td>0</td>\n",
       "      <td>Everyone</td>\n",
       "      <td>Education</td>\n",
       "      <td>July 25, 2017</td>\n",
       "      <td>1.48</td>\n",
       "      <td>4.1 and up</td>\n",
       "    </tr>\n",
       "    <tr>\n",
       "      <th>7721</th>\n",
       "      <td>Fr. Mike Schmitz Audio Teachings</td>\n",
       "      <td>FAMILY</td>\n",
       "      <td>5.0</td>\n",
       "      <td>4</td>\n",
       "      <td>3.6</td>\n",
       "      <td>100+</td>\n",
       "      <td>Free</td>\n",
       "      <td>0</td>\n",
       "      <td>Everyone</td>\n",
       "      <td>Education</td>\n",
       "      <td>July 6, 2018</td>\n",
       "      <td>1.0</td>\n",
       "      <td>4.1 and up</td>\n",
       "    </tr>\n",
       "    <tr>\n",
       "      <th>7722</th>\n",
       "      <td>iHoroscope - 2018 Daily Horoscope &amp; Astrology</td>\n",
       "      <td>LIFESTYLE</td>\n",
       "      <td>4.5</td>\n",
       "      <td>398307</td>\n",
       "      <td>19000.0</td>\n",
       "      <td>10,000,000+</td>\n",
       "      <td>Free</td>\n",
       "      <td>0</td>\n",
       "      <td>Everyone</td>\n",
       "      <td>Lifestyle</td>\n",
       "      <td>July 25, 2018</td>\n",
       "      <td>Varies with device</td>\n",
       "      <td>Varies with device</td>\n",
       "    </tr>\n",
       "  </tbody>\n",
       "</table>\n",
       "<p>7723 rows × 13 columns</p>\n",
       "</div>"
      ],
      "text/plain": [
       "                                                    App             Category  \\\n",
       "0        Photo Editor & Candy Camera & Grid & ScrapBook       ART_AND_DESIGN   \n",
       "1                                   Coloring book moana       ART_AND_DESIGN   \n",
       "2     U Launcher Lite – FREE Live Cool Themes, Hide ...       ART_AND_DESIGN   \n",
       "3                                 Sketch - Draw & Paint       ART_AND_DESIGN   \n",
       "4                 Pixel Draw - Number Art Coloring Book       ART_AND_DESIGN   \n",
       "...                                                 ...                  ...   \n",
       "7718                                        Chemin (fr)  BOOKS_AND_REFERENCE   \n",
       "7719                                      FR Calculator               FAMILY   \n",
       "7720                                   Sya9a Maroc - FR               FAMILY   \n",
       "7721                   Fr. Mike Schmitz Audio Teachings               FAMILY   \n",
       "7722      iHoroscope - 2018 Daily Horoscope & Astrology            LIFESTYLE   \n",
       "\n",
       "      Rating Reviews     Size     Installs  Type Price Content Rating  \\\n",
       "0        4.1     159  19000.0      10,000+  Free     0       Everyone   \n",
       "1        3.9     967  14000.0     500,000+  Free     0       Everyone   \n",
       "2        4.7   87510      8.7   5,000,000+  Free     0       Everyone   \n",
       "3        4.5  215644  25000.0  50,000,000+  Free     0           Teen   \n",
       "4        4.3     967      2.8     100,000+  Free     0       Everyone   \n",
       "...      ...     ...      ...          ...   ...   ...            ...   \n",
       "7718     4.8      44    619.0       1,000+  Free     0       Everyone   \n",
       "7719     4.0       7      2.6         500+  Free     0       Everyone   \n",
       "7720     4.5      38  53000.0       5,000+  Free     0       Everyone   \n",
       "7721     5.0       4      3.6         100+  Free     0       Everyone   \n",
       "7722     4.5  398307  19000.0  10,000,000+  Free     0       Everyone   \n",
       "\n",
       "                         Genres      Last Updated         Current Ver  \\\n",
       "0                  Art & Design   January 7, 2018               1.0.0   \n",
       "1     Art & Design;Pretend Play  January 15, 2018               2.0.0   \n",
       "2                  Art & Design    August 1, 2018               1.2.4   \n",
       "3                  Art & Design      June 8, 2018  Varies with device   \n",
       "4       Art & Design;Creativity     June 20, 2018                 1.1   \n",
       "...                         ...               ...                 ...   \n",
       "7718          Books & Reference    March 23, 2014                 0.8   \n",
       "7719                  Education     June 18, 2017               1.0.0   \n",
       "7720                  Education     July 25, 2017                1.48   \n",
       "7721                  Education      July 6, 2018                 1.0   \n",
       "7722                  Lifestyle     July 25, 2018  Varies with device   \n",
       "\n",
       "             Android Ver  \n",
       "0           4.0.3 and up  \n",
       "1           4.0.3 and up  \n",
       "2           4.0.3 and up  \n",
       "3             4.2 and up  \n",
       "4             4.4 and up  \n",
       "...                  ...  \n",
       "7718          2.2 and up  \n",
       "7719          4.1 and up  \n",
       "7720          4.1 and up  \n",
       "7721          4.1 and up  \n",
       "7722  Varies with device  \n",
       "\n",
       "[7723 rows x 13 columns]"
      ]
     },
     "execution_count": 10,
     "metadata": {},
     "output_type": "execute_result"
    }
   ],
   "source": [
    "app_data"
   ]
  },
  {
   "cell_type": "markdown",
   "metadata": {},
   "source": [
    "- Reviews is a numeric field that is loaded as a string field. Convert it to numeric (int/float)."
   ]
  },
  {
   "cell_type": "code",
   "execution_count": 11,
   "metadata": {},
   "outputs": [],
   "source": [
    "app_data['Reviews']=app_data['Reviews'].astype('int')"
   ]
  },
  {
   "cell_type": "markdown",
   "metadata": {},
   "source": [
    "- Installs field is currently stored as string and has values like 1,000,000+. \n",
    "\n",
    "1. Treat 1,000,000+ as 1,000,000\n",
    "\n",
    "2. remove ‘+’, ‘,’ from the field, convert it to integer"
   ]
  },
  {
   "cell_type": "code",
   "execution_count": 12,
   "metadata": {},
   "outputs": [],
   "source": [
    "def convert_to_int(value):\n",
    "    new_value='';\n",
    "    for i in value:\n",
    "        if(i!='+' and i!=','):\n",
    "            new_value+=i;\n",
    "    return(int(new_value));\n",
    "\n",
    "\n",
    "app_data['Installs']=app_data['Installs'].apply(lambda val: convert_to_int(val) )"
   ]
  },
  {
   "cell_type": "markdown",
   "metadata": {},
   "source": [
    "- Price field is a string and has dollar symbol. Remove dollar sign, and convert it to numeric."
   ]
  },
  {
   "cell_type": "code",
   "execution_count": 13,
   "metadata": {
    "scrolled": true
   },
   "outputs": [],
   "source": [
    "app_data['Price']=app_data['Price'].apply(lambda val: val[1:] if val.startswith('$') else val).astype('float');"
   ]
  },
  {
   "cell_type": "code",
   "execution_count": 14,
   "metadata": {},
   "outputs": [
    {
     "name": "stdout",
     "output_type": "stream",
     "text": [
      "<class 'pandas.core.frame.DataFrame'>\n",
      "RangeIndex: 7723 entries, 0 to 7722\n",
      "Data columns (total 13 columns):\n",
      " #   Column          Non-Null Count  Dtype  \n",
      "---  ------          --------------  -----  \n",
      " 0   App             7723 non-null   object \n",
      " 1   Category        7723 non-null   object \n",
      " 2   Rating          7723 non-null   float64\n",
      " 3   Reviews         7723 non-null   int32  \n",
      " 4   Size            7723 non-null   float64\n",
      " 5   Installs        7723 non-null   int64  \n",
      " 6   Type            7723 non-null   object \n",
      " 7   Price           7723 non-null   float64\n",
      " 8   Content Rating  7723 non-null   object \n",
      " 9   Genres          7723 non-null   object \n",
      " 10  Last Updated    7723 non-null   object \n",
      " 11  Current Ver     7723 non-null   object \n",
      " 12  Android Ver     7723 non-null   object \n",
      "dtypes: float64(3), int32(1), int64(1), object(8)\n",
      "memory usage: 754.3+ KB\n"
     ]
    }
   ],
   "source": [
    "app_data.info()"
   ]
  },
  {
   "cell_type": "markdown",
   "metadata": {},
   "source": [
    "### Sanity checks\n",
    "\n",
    "- Average rating should be between 1 and 5 as only these values are allowed on the play store. Drop the rows that have a value outside this range."
   ]
  },
  {
   "cell_type": "code",
   "execution_count": 15,
   "metadata": {},
   "outputs": [],
   "source": [
    "app_data=app_data[(app_data['Rating']<=5) & (app_data['Rating']>=1)]"
   ]
  },
  {
   "cell_type": "markdown",
   "metadata": {},
   "source": [
    "- Reviews should not be more than installs as only those who installed can review the app. If there are any such records, drop them."
   ]
  },
  {
   "cell_type": "code",
   "execution_count": 16,
   "metadata": {},
   "outputs": [],
   "source": [
    "app_data=app_data[app_data['Reviews']<=app_data['Installs']]"
   ]
  },
  {
   "cell_type": "markdown",
   "metadata": {},
   "source": [
    "- For free apps (type = “Free”), the price should not be >0. Drop any such rows"
   ]
  },
  {
   "cell_type": "code",
   "execution_count": 17,
   "metadata": {},
   "outputs": [],
   "source": [
    "app_data=app_data[(app_data['Type']!='Free') | (app_data['Price']==0)]"
   ]
  },
  {
   "cell_type": "markdown",
   "metadata": {},
   "source": [
    "### 5.  Performing univariate analysis: \n",
    "\n",
    "#### Boxplot for Price\n",
    "\n",
    "Are there any outliers? Think about the price of usual apps on Play Store."
   ]
  },
  {
   "cell_type": "code",
   "execution_count": 18,
   "metadata": {
    "scrolled": true
   },
   "outputs": [
    {
     "data": {
      "image/png": "[encoded data removed]",
      "text/plain": [
       "<Figure size 432x288 with 1 Axes>"
      ]
     },
     "metadata": {
      "needs_background": "light"
     },
     "output_type": "display_data"
    }
   ],
   "source": [
    "sns.boxplot(y='Price',data=app_data);"
   ]
  },
  {
   "cell_type": "markdown",
   "metadata": {},
   "source": [
    "Most of the apps are free of charge. However, very few apps are paid."
   ]
  },
  {
   "cell_type": "markdown",
   "metadata": {},
   "source": [
    "#### Boxplot for Reviews\n",
    "\n",
    "Are there any apps with very high number of reviews? Do the values seem right?"
   ]
  },
  {
   "cell_type": "code",
   "execution_count": 19,
   "metadata": {
    "scrolled": false
   },
   "outputs": [
    {
     "data": {
      "image/png": "[encoded data removed]",
      "text/plain": [
       "<Figure size 432x288 with 1 Axes>"
      ]
     },
     "metadata": {
      "needs_background": "light"
     },
     "output_type": "display_data"
    }
   ],
   "source": [
    "fig2,ax2=plt.subplots(1,1)\n",
    "app_data.boxplot(column='Reviews', grid=False,ax=ax2);"
   ]
  },
  {
   "cell_type": "markdown",
   "metadata": {},
   "source": [
    "- The values seem right because the outliers have reviews in the order of 1e7 (i.e. 10000000)\n",
    "- If we reduce the limit in y-axis we get a better idea about the boxplot "
   ]
  },
  {
   "cell_type": "code",
   "execution_count": 20,
   "metadata": {
    "scrolled": true
   },
   "outputs": [
    {
     "data": {
      "image/png": "[encoded data removed]",
      "text/plain": [
       "<Figure size 720x432 with 1 Axes>"
      ]
     },
     "metadata": {
      "needs_background": "light"
     },
     "output_type": "display_data"
    }
   ],
   "source": [
    "fig3,ax3=plt.subplots(1,1, figsize=(10,6))\n",
    "app_data.boxplot(column='Reviews', grid=False,ax=ax3);\n",
    "ax3.set_ylim([-5000,100000]);"
   ]
  },
  {
   "cell_type": "code",
   "execution_count": 21,
   "metadata": {},
   "outputs": [
    {
     "data": {
      "text/plain": [
       "count    7.717000e+03\n",
       "mean     2.951275e+05\n",
       "std      1.864640e+06\n",
       "min      1.000000e+00\n",
       "25%      1.090000e+02\n",
       "50%      2.351000e+03\n",
       "75%      3.910900e+04\n",
       "max      4.489389e+07\n",
       "Name: Reviews, dtype: float64"
      ]
     },
     "execution_count": 21,
     "metadata": {},
     "output_type": "execute_result"
    }
   ],
   "source": [
    "app_data['Reviews'].describe()"
   ]
  },
  {
   "cell_type": "markdown",
   "metadata": {},
   "source": [
    "- If we reduce the y-limit of the boxplot to 100000, we get a better understanding of the plot.\n",
    "- Most applications are not very popular and have very less number of reviews due to very low median\n",
    "- Even Q3 (75 percentile value) is close to 40000. (39109 based on describe function)\n",
    "- Only few outliers have Reviews >100000. Marginally small number of applications are extremely popular and have more than a million views.\n",
    "- Infact, the application with maximum views is an extreme outlier with 44.89 million views."
   ]
  },
  {
   "cell_type": "markdown",
   "metadata": {},
   "source": [
    "#### Histogram for Rating\n",
    "\n",
    "How are the ratings distributed? Is it more toward higher ratings?"
   ]
  },
  {
   "cell_type": "code",
   "execution_count": 22,
   "metadata": {},
   "outputs": [
    {
     "data": {
      "image/png": "[encoded data removed]",
      "text/plain": [
       "<Figure size 432x288 with 1 Axes>"
      ]
     },
     "metadata": {
      "needs_background": "light"
     },
     "output_type": "display_data"
    }
   ],
   "source": [
    "fig4,ax4=plt.subplots(1,1);\n",
    "sns.histplot(data=app_data,x='Rating', bins=20);\n",
    "ax4.set_title('Application Rating Histogram', fontsize=12);"
   ]
  },
  {
   "cell_type": "markdown",
   "metadata": {},
   "source": [
    "- The histogram distribution of Ratings is more towards the higher end\n",
    "- A large number of applications have ratings between 4 and 4.8 (out of 5)"
   ]
  },
  {
   "cell_type": "markdown",
   "metadata": {},
   "source": [
    "#### Histogram for Size\n",
    "\n",
    "Note down your observations for the plots made above. Which of these seem to have outliers?"
   ]
  },
  {
   "cell_type": "code",
   "execution_count": 23,
   "metadata": {},
   "outputs": [
    {
     "data": {
      "image/png": "[encoded data removed]",
      "text/plain": [
       "<Figure size 432x288 with 1 Axes>"
      ]
     },
     "metadata": {
      "needs_background": "light"
     },
     "output_type": "display_data"
    }
   ],
   "source": [
    "fig5,ax5=plt.subplots(1,1)\n",
    "app_data['Size'].hist(ax=ax5);\n",
    "ax5.set_xlabel('Size of app (in KB)',fontsize=10);\n",
    "ax5.set_ylabel('Frequency',fontsize=10);\n",
    "ax5.set_title('Histogram depicting size of mobile application',fontsize=12);"
   ]
  },
  {
   "cell_type": "markdown",
   "metadata": {},
   "source": [
    "- Most of the applications seem to have size < 40000 KB (40 MB)\n",
    "- Very few outliers have size >80000 KB (80 MB) "
   ]
  },
  {
   "cell_type": "markdown",
   "metadata": {},
   "source": [
    "### 6. Outlier treatment: \n",
    "\n",
    "**Price:** From the box plot, it seems like there are some apps with very high price. A price of $200 for an application on the Play Store is very high and suspicious!\n",
    "\n",
    "Check out the records with very high price\n",
    "\n",
    "Is 200 indeed a high price?\n",
    "\n",
    "Drop these as most seem to be junk apps"
   ]
  },
  {
   "cell_type": "code",
   "execution_count": 24,
   "metadata": {},
   "outputs": [
    {
     "data": {
      "text/html": [
       "<div>\n",
       "<style scoped>\n",
       "    .dataframe tbody tr th:only-of-type {\n",
       "        vertical-align: middle;\n",
       "    }\n",
       "\n",
       "    .dataframe tbody tr th {\n",
       "        vertical-align: top;\n",
       "    }\n",
       "\n",
       "    .dataframe thead th {\n",
       "        text-align: right;\n",
       "    }\n",
       "</style>\n",
       "<table border=\"1\" class=\"dataframe\">\n",
       "  <thead>\n",
       "    <tr style=\"text-align: right;\">\n",
       "      <th></th>\n",
       "      <th>App</th>\n",
       "      <th>Category</th>\n",
       "      <th>Rating</th>\n",
       "      <th>Reviews</th>\n",
       "      <th>Size</th>\n",
       "      <th>Installs</th>\n",
       "      <th>Type</th>\n",
       "      <th>Price</th>\n",
       "      <th>Content Rating</th>\n",
       "      <th>Genres</th>\n",
       "      <th>Last Updated</th>\n",
       "      <th>Current Ver</th>\n",
       "      <th>Android Ver</th>\n",
       "    </tr>\n",
       "  </thead>\n",
       "  <tbody>\n",
       "    <tr>\n",
       "      <th>2911</th>\n",
       "      <td>most expensive app (H)</td>\n",
       "      <td>FAMILY</td>\n",
       "      <td>4.3</td>\n",
       "      <td>6</td>\n",
       "      <td>1.5</td>\n",
       "      <td>100</td>\n",
       "      <td>Paid</td>\n",
       "      <td>399.99</td>\n",
       "      <td>Everyone</td>\n",
       "      <td>Entertainment</td>\n",
       "      <td>July 16, 2018</td>\n",
       "      <td>1.0</td>\n",
       "      <td>7.0 and up</td>\n",
       "    </tr>\n",
       "    <tr>\n",
       "      <th>3041</th>\n",
       "      <td>💎 I'm rich</td>\n",
       "      <td>LIFESTYLE</td>\n",
       "      <td>3.8</td>\n",
       "      <td>718</td>\n",
       "      <td>26000.0</td>\n",
       "      <td>10000</td>\n",
       "      <td>Paid</td>\n",
       "      <td>399.99</td>\n",
       "      <td>Everyone</td>\n",
       "      <td>Lifestyle</td>\n",
       "      <td>March 11, 2018</td>\n",
       "      <td>1.0.0</td>\n",
       "      <td>4.4 and up</td>\n",
       "    </tr>\n",
       "    <tr>\n",
       "      <th>3045</th>\n",
       "      <td>I'm Rich - Trump Edition</td>\n",
       "      <td>LIFESTYLE</td>\n",
       "      <td>3.6</td>\n",
       "      <td>275</td>\n",
       "      <td>7.3</td>\n",
       "      <td>10000</td>\n",
       "      <td>Paid</td>\n",
       "      <td>400.00</td>\n",
       "      <td>Everyone</td>\n",
       "      <td>Lifestyle</td>\n",
       "      <td>May 3, 2018</td>\n",
       "      <td>1.0.1</td>\n",
       "      <td>4.1 and up</td>\n",
       "    </tr>\n",
       "    <tr>\n",
       "      <th>3792</th>\n",
       "      <td>I am rich</td>\n",
       "      <td>LIFESTYLE</td>\n",
       "      <td>3.8</td>\n",
       "      <td>3547</td>\n",
       "      <td>1.8</td>\n",
       "      <td>100000</td>\n",
       "      <td>Paid</td>\n",
       "      <td>399.99</td>\n",
       "      <td>Everyone</td>\n",
       "      <td>Lifestyle</td>\n",
       "      <td>January 12, 2018</td>\n",
       "      <td>2.0</td>\n",
       "      <td>4.0.3 and up</td>\n",
       "    </tr>\n",
       "    <tr>\n",
       "      <th>3795</th>\n",
       "      <td>I am Rich Plus</td>\n",
       "      <td>FAMILY</td>\n",
       "      <td>4.0</td>\n",
       "      <td>856</td>\n",
       "      <td>8.7</td>\n",
       "      <td>10000</td>\n",
       "      <td>Paid</td>\n",
       "      <td>399.99</td>\n",
       "      <td>Everyone</td>\n",
       "      <td>Entertainment</td>\n",
       "      <td>May 19, 2018</td>\n",
       "      <td>3.0</td>\n",
       "      <td>4.4 and up</td>\n",
       "    </tr>\n",
       "    <tr>\n",
       "      <th>3796</th>\n",
       "      <td>I am rich VIP</td>\n",
       "      <td>LIFESTYLE</td>\n",
       "      <td>3.8</td>\n",
       "      <td>411</td>\n",
       "      <td>2.6</td>\n",
       "      <td>10000</td>\n",
       "      <td>Paid</td>\n",
       "      <td>299.99</td>\n",
       "      <td>Everyone</td>\n",
       "      <td>Lifestyle</td>\n",
       "      <td>July 21, 2018</td>\n",
       "      <td>1.1.1</td>\n",
       "      <td>4.3 and up</td>\n",
       "    </tr>\n",
       "    <tr>\n",
       "      <th>3797</th>\n",
       "      <td>I Am Rich Premium</td>\n",
       "      <td>FINANCE</td>\n",
       "      <td>4.1</td>\n",
       "      <td>1867</td>\n",
       "      <td>4.7</td>\n",
       "      <td>50000</td>\n",
       "      <td>Paid</td>\n",
       "      <td>399.99</td>\n",
       "      <td>Everyone</td>\n",
       "      <td>Finance</td>\n",
       "      <td>November 12, 2017</td>\n",
       "      <td>1.6</td>\n",
       "      <td>4.0 and up</td>\n",
       "    </tr>\n",
       "    <tr>\n",
       "      <th>3798</th>\n",
       "      <td>I am extremely Rich</td>\n",
       "      <td>LIFESTYLE</td>\n",
       "      <td>2.9</td>\n",
       "      <td>41</td>\n",
       "      <td>2.9</td>\n",
       "      <td>1000</td>\n",
       "      <td>Paid</td>\n",
       "      <td>379.99</td>\n",
       "      <td>Everyone</td>\n",
       "      <td>Lifestyle</td>\n",
       "      <td>July 1, 2018</td>\n",
       "      <td>1.0</td>\n",
       "      <td>4.0 and up</td>\n",
       "    </tr>\n",
       "    <tr>\n",
       "      <th>3799</th>\n",
       "      <td>I am Rich!</td>\n",
       "      <td>FINANCE</td>\n",
       "      <td>3.8</td>\n",
       "      <td>93</td>\n",
       "      <td>22000.0</td>\n",
       "      <td>1000</td>\n",
       "      <td>Paid</td>\n",
       "      <td>399.99</td>\n",
       "      <td>Everyone</td>\n",
       "      <td>Finance</td>\n",
       "      <td>December 11, 2017</td>\n",
       "      <td>1.0</td>\n",
       "      <td>4.1 and up</td>\n",
       "    </tr>\n",
       "    <tr>\n",
       "      <th>3800</th>\n",
       "      <td>I am rich(premium)</td>\n",
       "      <td>FINANCE</td>\n",
       "      <td>3.5</td>\n",
       "      <td>472</td>\n",
       "      <td>965.0</td>\n",
       "      <td>5000</td>\n",
       "      <td>Paid</td>\n",
       "      <td>399.99</td>\n",
       "      <td>Everyone</td>\n",
       "      <td>Finance</td>\n",
       "      <td>May 1, 2017</td>\n",
       "      <td>3.4</td>\n",
       "      <td>4.4 and up</td>\n",
       "    </tr>\n",
       "    <tr>\n",
       "      <th>3803</th>\n",
       "      <td>I Am Rich Pro</td>\n",
       "      <td>FAMILY</td>\n",
       "      <td>4.4</td>\n",
       "      <td>201</td>\n",
       "      <td>2.7</td>\n",
       "      <td>5000</td>\n",
       "      <td>Paid</td>\n",
       "      <td>399.99</td>\n",
       "      <td>Everyone</td>\n",
       "      <td>Entertainment</td>\n",
       "      <td>May 30, 2017</td>\n",
       "      <td>1.54</td>\n",
       "      <td>1.6 and up</td>\n",
       "    </tr>\n",
       "    <tr>\n",
       "      <th>3805</th>\n",
       "      <td>I am rich (Most expensive app)</td>\n",
       "      <td>FINANCE</td>\n",
       "      <td>4.1</td>\n",
       "      <td>129</td>\n",
       "      <td>2.7</td>\n",
       "      <td>1000</td>\n",
       "      <td>Paid</td>\n",
       "      <td>399.99</td>\n",
       "      <td>Teen</td>\n",
       "      <td>Finance</td>\n",
       "      <td>December 6, 2017</td>\n",
       "      <td>2</td>\n",
       "      <td>4.0.3 and up</td>\n",
       "    </tr>\n",
       "    <tr>\n",
       "      <th>3807</th>\n",
       "      <td>I Am Rich</td>\n",
       "      <td>FAMILY</td>\n",
       "      <td>3.6</td>\n",
       "      <td>217</td>\n",
       "      <td>4.9</td>\n",
       "      <td>10000</td>\n",
       "      <td>Paid</td>\n",
       "      <td>389.99</td>\n",
       "      <td>Everyone</td>\n",
       "      <td>Entertainment</td>\n",
       "      <td>June 22, 2018</td>\n",
       "      <td>1.5</td>\n",
       "      <td>4.2 and up</td>\n",
       "    </tr>\n",
       "    <tr>\n",
       "      <th>3810</th>\n",
       "      <td>I am Rich</td>\n",
       "      <td>FINANCE</td>\n",
       "      <td>4.3</td>\n",
       "      <td>180</td>\n",
       "      <td>3.8</td>\n",
       "      <td>5000</td>\n",
       "      <td>Paid</td>\n",
       "      <td>399.99</td>\n",
       "      <td>Everyone</td>\n",
       "      <td>Finance</td>\n",
       "      <td>March 22, 2018</td>\n",
       "      <td>1.0</td>\n",
       "      <td>4.2 and up</td>\n",
       "    </tr>\n",
       "    <tr>\n",
       "      <th>3814</th>\n",
       "      <td>I AM RICH PRO PLUS</td>\n",
       "      <td>FINANCE</td>\n",
       "      <td>4.0</td>\n",
       "      <td>36</td>\n",
       "      <td>41000.0</td>\n",
       "      <td>1000</td>\n",
       "      <td>Paid</td>\n",
       "      <td>399.99</td>\n",
       "      <td>Everyone</td>\n",
       "      <td>Finance</td>\n",
       "      <td>June 25, 2018</td>\n",
       "      <td>1.0.2</td>\n",
       "      <td>4.1 and up</td>\n",
       "    </tr>\n",
       "  </tbody>\n",
       "</table>\n",
       "</div>"
      ],
      "text/plain": [
       "                                 App   Category  Rating  Reviews     Size  \\\n",
       "2911          most expensive app (H)     FAMILY     4.3        6      1.5   \n",
       "3041                      💎 I'm rich  LIFESTYLE     3.8      718  26000.0   \n",
       "3045        I'm Rich - Trump Edition  LIFESTYLE     3.6      275      7.3   \n",
       "3792                       I am rich  LIFESTYLE     3.8     3547      1.8   \n",
       "3795                  I am Rich Plus     FAMILY     4.0      856      8.7   \n",
       "3796                   I am rich VIP  LIFESTYLE     3.8      411      2.6   \n",
       "3797               I Am Rich Premium    FINANCE     4.1     1867      4.7   \n",
       "3798             I am extremely Rich  LIFESTYLE     2.9       41      2.9   \n",
       "3799                      I am Rich!    FINANCE     3.8       93  22000.0   \n",
       "3800              I am rich(premium)    FINANCE     3.5      472    965.0   \n",
       "3803                   I Am Rich Pro     FAMILY     4.4      201      2.7   \n",
       "3805  I am rich (Most expensive app)    FINANCE     4.1      129      2.7   \n",
       "3807                       I Am Rich     FAMILY     3.6      217      4.9   \n",
       "3810                       I am Rich    FINANCE     4.3      180      3.8   \n",
       "3814              I AM RICH PRO PLUS    FINANCE     4.0       36  41000.0   \n",
       "\n",
       "      Installs  Type   Price Content Rating         Genres       Last Updated  \\\n",
       "2911       100  Paid  399.99       Everyone  Entertainment      July 16, 2018   \n",
       "3041     10000  Paid  399.99       Everyone      Lifestyle     March 11, 2018   \n",
       "3045     10000  Paid  400.00       Everyone      Lifestyle        May 3, 2018   \n",
       "3792    100000  Paid  399.99       Everyone      Lifestyle   January 12, 2018   \n",
       "3795     10000  Paid  399.99       Everyone  Entertainment       May 19, 2018   \n",
       "3796     10000  Paid  299.99       Everyone      Lifestyle      July 21, 2018   \n",
       "3797     50000  Paid  399.99       Everyone        Finance  November 12, 2017   \n",
       "3798      1000  Paid  379.99       Everyone      Lifestyle       July 1, 2018   \n",
       "3799      1000  Paid  399.99       Everyone        Finance  December 11, 2017   \n",
       "3800      5000  Paid  399.99       Everyone        Finance        May 1, 2017   \n",
       "3803      5000  Paid  399.99       Everyone  Entertainment       May 30, 2017   \n",
       "3805      1000  Paid  399.99           Teen        Finance   December 6, 2017   \n",
       "3807     10000  Paid  389.99       Everyone  Entertainment      June 22, 2018   \n",
       "3810      5000  Paid  399.99       Everyone        Finance     March 22, 2018   \n",
       "3814      1000  Paid  399.99       Everyone        Finance      June 25, 2018   \n",
       "\n",
       "     Current Ver   Android Ver  \n",
       "2911         1.0    7.0 and up  \n",
       "3041       1.0.0    4.4 and up  \n",
       "3045       1.0.1    4.1 and up  \n",
       "3792         2.0  4.0.3 and up  \n",
       "3795         3.0    4.4 and up  \n",
       "3796       1.1.1    4.3 and up  \n",
       "3797         1.6    4.0 and up  \n",
       "3798         1.0    4.0 and up  \n",
       "3799         1.0    4.1 and up  \n",
       "3800         3.4    4.4 and up  \n",
       "3803        1.54    1.6 and up  \n",
       "3805           2  4.0.3 and up  \n",
       "3807         1.5    4.2 and up  \n",
       "3810         1.0    4.2 and up  \n",
       "3814       1.0.2    4.1 and up  "
      ]
     },
     "execution_count": 24,
     "metadata": {},
     "output_type": "execute_result"
    }
   ],
   "source": [
    "app_data[app_data['Price']>200]"
   ]
  },
  {
   "cell_type": "code",
   "execution_count": 25,
   "metadata": {},
   "outputs": [],
   "source": [
    "app_data.drop(index=app_data[app_data['Price']>200].index, inplace=True);\n",
    "app_data.reset_index(inplace=True, drop=True);"
   ]
  },
  {
   "cell_type": "markdown",
   "metadata": {},
   "source": [
    "**Reviews:** Very few apps have very high number of reviews. These are all star apps that don’t help with the analysis and, in fact, will skew it. Drop records having more than 2 million reviews."
   ]
  },
  {
   "cell_type": "code",
   "execution_count": 26,
   "metadata": {},
   "outputs": [
    {
     "data": {
      "text/plain": [
       "4.5    256\n",
       "4.4    234\n",
       "4.3    206\n",
       "4.6    166\n",
       "4.2    148\n",
       "4.1     79\n",
       "4.7     79\n",
       "4.0     50\n",
       "4.8     30\n",
       "3.9     23\n",
       "3.8     10\n",
       "3.7      9\n",
       "4.9      5\n",
       "3.6      4\n",
       "3.5      4\n",
       "3.4      3\n",
       "3.3      3\n",
       "2.8      1\n",
       "Name: Rating, dtype: int64"
      ]
     },
     "execution_count": 26,
     "metadata": {},
     "output_type": "execute_result"
    }
   ],
   "source": [
    "app_data[app_data['Reviews']>100000]['Rating'].value_counts()"
   ]
  },
  {
   "cell_type": "code",
   "execution_count": 27,
   "metadata": {},
   "outputs": [],
   "source": [
    "app_data.drop(index=app_data[app_data['Reviews']>100000].index, inplace=True);\n",
    "app_data.reset_index(inplace=True, drop=True);"
   ]
  },
  {
   "cell_type": "markdown",
   "metadata": {},
   "source": [
    "**Installs:**  There seems to be some outliers in this field too. Apps having very high number of installs should be dropped from the analysis.\n",
    "Find out the different percentiles – 10, 25, 50, 70, 90, 95, 99\n",
    "\n",
    "Decide a threshold as cutoff for outlier and drop records having values more than that"
   ]
  },
  {
   "cell_type": "code",
   "execution_count": 28,
   "metadata": {
    "scrolled": true
   },
   "outputs": [
    {
     "data": {
      "text/plain": [
       "count    6.392000e+03\n",
       "mean     8.201466e+05\n",
       "std      2.616232e+06\n",
       "min      5.000000e+00\n",
       "25%      5.000000e+03\n",
       "50%      1.000000e+05\n",
       "75%      1.000000e+06\n",
       "max      1.000000e+08\n",
       "Name: Installs, dtype: float64"
      ]
     },
     "execution_count": 28,
     "metadata": {},
     "output_type": "execute_result"
    }
   ],
   "source": [
    "app_data['Installs'].describe()"
   ]
  },
  {
   "cell_type": "code",
   "execution_count": 29,
   "metadata": {},
   "outputs": [
    {
     "data": {
      "text/plain": [
       "array([1.e+03, 5.e+03, 1.e+05, 5.e+05, 1.e+06, 1.e+06, 5.e+06, 1.e+07])"
      ]
     },
     "execution_count": 29,
     "metadata": {},
     "output_type": "execute_result"
    }
   ],
   "source": [
    "np.percentile(app_data['Installs'],q=[10,25,50,70,75,90,95,99])"
   ]
  },
  {
   "cell_type": "code",
   "execution_count": 30,
   "metadata": {
    "scrolled": false
   },
   "outputs": [
    {
     "data": {
      "text/plain": [
       "<AxesSubplot:>"
      ]
     },
     "execution_count": 30,
     "metadata": {},
     "output_type": "execute_result"
    },
    {
     "data": {
      "image/png": "[encoded data removed]",
      "text/plain": [
       "<Figure size 432x288 with 1 Axes>"
      ]
     },
     "metadata": {
      "needs_background": "light"
     },
     "output_type": "display_data"
    }
   ],
   "source": [
    "app_data.boxplot(column='Installs', grid=False)"
   ]
  },
  {
   "cell_type": "code",
   "execution_count": 31,
   "metadata": {},
   "outputs": [
    {
     "data": {
      "image/png": "[encoded data removed]",
      "text/plain": [
       "<Figure size 720x432 with 1 Axes>"
      ]
     },
     "metadata": {
      "needs_background": "light"
     },
     "output_type": "display_data"
    }
   ],
   "source": [
    "fig6,ax6=plt.subplots(1,1, figsize=(10,6))\n",
    "app_data.boxplot(column='Installs', grid=False,ax=ax6);\n",
    "ax6.set_ylim([-5000,1100000]);"
   ]
  },
  {
   "cell_type": "code",
   "execution_count": 32,
   "metadata": {
    "scrolled": true
   },
   "outputs": [],
   "source": [
    "app_data.drop(index=app_data[app_data['Installs']>1100000].index, inplace=True);\n",
    "app_data.reset_index(inplace=True, drop=True);"
   ]
  },
  {
   "cell_type": "code",
   "execution_count": 33,
   "metadata": {},
   "outputs": [
    {
     "data": {
      "text/html": [
       "<div>\n",
       "<style scoped>\n",
       "    .dataframe tbody tr th:only-of-type {\n",
       "        vertical-align: middle;\n",
       "    }\n",
       "\n",
       "    .dataframe tbody tr th {\n",
       "        vertical-align: top;\n",
       "    }\n",
       "\n",
       "    .dataframe thead th {\n",
       "        text-align: right;\n",
       "    }\n",
       "</style>\n",
       "<table border=\"1\" class=\"dataframe\">\n",
       "  <thead>\n",
       "    <tr style=\"text-align: right;\">\n",
       "      <th></th>\n",
       "      <th>App</th>\n",
       "      <th>Category</th>\n",
       "      <th>Rating</th>\n",
       "      <th>Reviews</th>\n",
       "      <th>Size</th>\n",
       "      <th>Installs</th>\n",
       "      <th>Type</th>\n",
       "      <th>Price</th>\n",
       "      <th>Content Rating</th>\n",
       "      <th>Genres</th>\n",
       "      <th>Last Updated</th>\n",
       "      <th>Current Ver</th>\n",
       "      <th>Android Ver</th>\n",
       "    </tr>\n",
       "  </thead>\n",
       "  <tbody>\n",
       "    <tr>\n",
       "      <th>0</th>\n",
       "      <td>Photo Editor &amp; Candy Camera &amp; Grid &amp; ScrapBook</td>\n",
       "      <td>ART_AND_DESIGN</td>\n",
       "      <td>4.1</td>\n",
       "      <td>159</td>\n",
       "      <td>19000.0</td>\n",
       "      <td>10000</td>\n",
       "      <td>Free</td>\n",
       "      <td>0.0</td>\n",
       "      <td>Everyone</td>\n",
       "      <td>Art &amp; Design</td>\n",
       "      <td>January 7, 2018</td>\n",
       "      <td>1.0.0</td>\n",
       "      <td>4.0.3 and up</td>\n",
       "    </tr>\n",
       "    <tr>\n",
       "      <th>1</th>\n",
       "      <td>Coloring book moana</td>\n",
       "      <td>ART_AND_DESIGN</td>\n",
       "      <td>3.9</td>\n",
       "      <td>967</td>\n",
       "      <td>14000.0</td>\n",
       "      <td>500000</td>\n",
       "      <td>Free</td>\n",
       "      <td>0.0</td>\n",
       "      <td>Everyone</td>\n",
       "      <td>Art &amp; Design;Pretend Play</td>\n",
       "      <td>January 15, 2018</td>\n",
       "      <td>2.0.0</td>\n",
       "      <td>4.0.3 and up</td>\n",
       "    </tr>\n",
       "    <tr>\n",
       "      <th>2</th>\n",
       "      <td>Pixel Draw - Number Art Coloring Book</td>\n",
       "      <td>ART_AND_DESIGN</td>\n",
       "      <td>4.3</td>\n",
       "      <td>967</td>\n",
       "      <td>2.8</td>\n",
       "      <td>100000</td>\n",
       "      <td>Free</td>\n",
       "      <td>0.0</td>\n",
       "      <td>Everyone</td>\n",
       "      <td>Art &amp; Design;Creativity</td>\n",
       "      <td>June 20, 2018</td>\n",
       "      <td>1.1</td>\n",
       "      <td>4.4 and up</td>\n",
       "    </tr>\n",
       "    <tr>\n",
       "      <th>3</th>\n",
       "      <td>Paper flowers instructions</td>\n",
       "      <td>ART_AND_DESIGN</td>\n",
       "      <td>4.4</td>\n",
       "      <td>167</td>\n",
       "      <td>5.6</td>\n",
       "      <td>50000</td>\n",
       "      <td>Free</td>\n",
       "      <td>0.0</td>\n",
       "      <td>Everyone</td>\n",
       "      <td>Art &amp; Design</td>\n",
       "      <td>March 26, 2017</td>\n",
       "      <td>1.0</td>\n",
       "      <td>2.3 and up</td>\n",
       "    </tr>\n",
       "    <tr>\n",
       "      <th>4</th>\n",
       "      <td>Smoke Effect Photo Maker - Smoke Editor</td>\n",
       "      <td>ART_AND_DESIGN</td>\n",
       "      <td>3.8</td>\n",
       "      <td>178</td>\n",
       "      <td>19000.0</td>\n",
       "      <td>50000</td>\n",
       "      <td>Free</td>\n",
       "      <td>0.0</td>\n",
       "      <td>Everyone</td>\n",
       "      <td>Art &amp; Design</td>\n",
       "      <td>April 26, 2018</td>\n",
       "      <td>1.1</td>\n",
       "      <td>4.0.3 and up</td>\n",
       "    </tr>\n",
       "    <tr>\n",
       "      <th>...</th>\n",
       "      <td>...</td>\n",
       "      <td>...</td>\n",
       "      <td>...</td>\n",
       "      <td>...</td>\n",
       "      <td>...</td>\n",
       "      <td>...</td>\n",
       "      <td>...</td>\n",
       "      <td>...</td>\n",
       "      <td>...</td>\n",
       "      <td>...</td>\n",
       "      <td>...</td>\n",
       "      <td>...</td>\n",
       "      <td>...</td>\n",
       "    </tr>\n",
       "    <tr>\n",
       "      <th>5882</th>\n",
       "      <td>FR Tides</td>\n",
       "      <td>WEATHER</td>\n",
       "      <td>3.8</td>\n",
       "      <td>1195</td>\n",
       "      <td>582.0</td>\n",
       "      <td>100000</td>\n",
       "      <td>Free</td>\n",
       "      <td>0.0</td>\n",
       "      <td>Everyone</td>\n",
       "      <td>Weather</td>\n",
       "      <td>February 16, 2014</td>\n",
       "      <td>6.0</td>\n",
       "      <td>2.1 and up</td>\n",
       "    </tr>\n",
       "    <tr>\n",
       "      <th>5883</th>\n",
       "      <td>Chemin (fr)</td>\n",
       "      <td>BOOKS_AND_REFERENCE</td>\n",
       "      <td>4.8</td>\n",
       "      <td>44</td>\n",
       "      <td>619.0</td>\n",
       "      <td>1000</td>\n",
       "      <td>Free</td>\n",
       "      <td>0.0</td>\n",
       "      <td>Everyone</td>\n",
       "      <td>Books &amp; Reference</td>\n",
       "      <td>March 23, 2014</td>\n",
       "      <td>0.8</td>\n",
       "      <td>2.2 and up</td>\n",
       "    </tr>\n",
       "    <tr>\n",
       "      <th>5884</th>\n",
       "      <td>FR Calculator</td>\n",
       "      <td>FAMILY</td>\n",
       "      <td>4.0</td>\n",
       "      <td>7</td>\n",
       "      <td>2.6</td>\n",
       "      <td>500</td>\n",
       "      <td>Free</td>\n",
       "      <td>0.0</td>\n",
       "      <td>Everyone</td>\n",
       "      <td>Education</td>\n",
       "      <td>June 18, 2017</td>\n",
       "      <td>1.0.0</td>\n",
       "      <td>4.1 and up</td>\n",
       "    </tr>\n",
       "    <tr>\n",
       "      <th>5885</th>\n",
       "      <td>Sya9a Maroc - FR</td>\n",
       "      <td>FAMILY</td>\n",
       "      <td>4.5</td>\n",
       "      <td>38</td>\n",
       "      <td>53000.0</td>\n",
       "      <td>5000</td>\n",
       "      <td>Free</td>\n",
       "      <td>0.0</td>\n",
       "      <td>Everyone</td>\n",
       "      <td>Education</td>\n",
       "      <td>July 25, 2017</td>\n",
       "      <td>1.48</td>\n",
       "      <td>4.1 and up</td>\n",
       "    </tr>\n",
       "    <tr>\n",
       "      <th>5886</th>\n",
       "      <td>Fr. Mike Schmitz Audio Teachings</td>\n",
       "      <td>FAMILY</td>\n",
       "      <td>5.0</td>\n",
       "      <td>4</td>\n",
       "      <td>3.6</td>\n",
       "      <td>100</td>\n",
       "      <td>Free</td>\n",
       "      <td>0.0</td>\n",
       "      <td>Everyone</td>\n",
       "      <td>Education</td>\n",
       "      <td>July 6, 2018</td>\n",
       "      <td>1.0</td>\n",
       "      <td>4.1 and up</td>\n",
       "    </tr>\n",
       "  </tbody>\n",
       "</table>\n",
       "<p>5887 rows × 13 columns</p>\n",
       "</div>"
      ],
      "text/plain": [
       "                                                 App             Category  \\\n",
       "0     Photo Editor & Candy Camera & Grid & ScrapBook       ART_AND_DESIGN   \n",
       "1                                Coloring book moana       ART_AND_DESIGN   \n",
       "2              Pixel Draw - Number Art Coloring Book       ART_AND_DESIGN   \n",
       "3                         Paper flowers instructions       ART_AND_DESIGN   \n",
       "4            Smoke Effect Photo Maker - Smoke Editor       ART_AND_DESIGN   \n",
       "...                                              ...                  ...   \n",
       "5882                                        FR Tides              WEATHER   \n",
       "5883                                     Chemin (fr)  BOOKS_AND_REFERENCE   \n",
       "5884                                   FR Calculator               FAMILY   \n",
       "5885                                Sya9a Maroc - FR               FAMILY   \n",
       "5886                Fr. Mike Schmitz Audio Teachings               FAMILY   \n",
       "\n",
       "      Rating  Reviews     Size  Installs  Type  Price Content Rating  \\\n",
       "0        4.1      159  19000.0     10000  Free    0.0       Everyone   \n",
       "1        3.9      967  14000.0    500000  Free    0.0       Everyone   \n",
       "2        4.3      967      2.8    100000  Free    0.0       Everyone   \n",
       "3        4.4      167      5.6     50000  Free    0.0       Everyone   \n",
       "4        3.8      178  19000.0     50000  Free    0.0       Everyone   \n",
       "...      ...      ...      ...       ...   ...    ...            ...   \n",
       "5882     3.8     1195    582.0    100000  Free    0.0       Everyone   \n",
       "5883     4.8       44    619.0      1000  Free    0.0       Everyone   \n",
       "5884     4.0        7      2.6       500  Free    0.0       Everyone   \n",
       "5885     4.5       38  53000.0      5000  Free    0.0       Everyone   \n",
       "5886     5.0        4      3.6       100  Free    0.0       Everyone   \n",
       "\n",
       "                         Genres       Last Updated Current Ver   Android Ver  \n",
       "0                  Art & Design    January 7, 2018       1.0.0  4.0.3 and up  \n",
       "1     Art & Design;Pretend Play   January 15, 2018       2.0.0  4.0.3 and up  \n",
       "2       Art & Design;Creativity      June 20, 2018         1.1    4.4 and up  \n",
       "3                  Art & Design     March 26, 2017         1.0    2.3 and up  \n",
       "4                  Art & Design     April 26, 2018         1.1  4.0.3 and up  \n",
       "...                         ...                ...         ...           ...  \n",
       "5882                    Weather  February 16, 2014         6.0    2.1 and up  \n",
       "5883          Books & Reference     March 23, 2014         0.8    2.2 and up  \n",
       "5884                  Education      June 18, 2017       1.0.0    4.1 and up  \n",
       "5885                  Education      July 25, 2017        1.48    4.1 and up  \n",
       "5886                  Education       July 6, 2018         1.0    4.1 and up  \n",
       "\n",
       "[5887 rows x 13 columns]"
      ]
     },
     "execution_count": 33,
     "metadata": {},
     "output_type": "execute_result"
    }
   ],
   "source": [
    "app_data"
   ]
  },
  {
   "cell_type": "markdown",
   "metadata": {},
   "source": []
  },
  {
   "cell_type": "markdown",
   "metadata": {},
   "source": [
    "### 7. Bivariate analysis: \n",
    "\n",
    "#### Let’s look at how the available predictors relate to the variable of interest, i.e., our target variable rating. Make scatter plots (for numeric features) and box plots (for character features) to assess the relations between rating and the other features."
   ]
  },
  {
   "cell_type": "markdown",
   "metadata": {},
   "source": [
    "**Rating vs Price**\n",
    "- Make scatter plot/joinplot for Rating vs. Price\n",
    "- What pattern do you observe? Does rating increase with price?"
   ]
  },
  {
   "cell_type": "code",
   "execution_count": 34,
   "metadata": {},
   "outputs": [
    {
     "data": {
      "image/png": "[encoded data removed]",
      "text/plain": [
       "<Figure size 432x288 with 1 Axes>"
      ]
     },
     "metadata": {
      "needs_background": "light"
     },
     "output_type": "display_data"
    }
   ],
   "source": [
    "sns.scatterplot(x='Price',y='Rating',data=app_data);"
   ]
  },
  {
   "cell_type": "code",
   "execution_count": 35,
   "metadata": {
    "scrolled": true
   },
   "outputs": [
    {
     "data": {
      "text/html": [
       "<div>\n",
       "<style scoped>\n",
       "    .dataframe tbody tr th:only-of-type {\n",
       "        vertical-align: middle;\n",
       "    }\n",
       "\n",
       "    .dataframe tbody tr th {\n",
       "        vertical-align: top;\n",
       "    }\n",
       "\n",
       "    .dataframe thead th {\n",
       "        text-align: right;\n",
       "    }\n",
       "</style>\n",
       "<table border=\"1\" class=\"dataframe\">\n",
       "  <thead>\n",
       "    <tr style=\"text-align: right;\">\n",
       "      <th></th>\n",
       "      <th>Rating</th>\n",
       "      <th>Price</th>\n",
       "    </tr>\n",
       "  </thead>\n",
       "  <tbody>\n",
       "    <tr>\n",
       "      <th>Rating</th>\n",
       "      <td>1.000000</td>\n",
       "      <td>0.034746</td>\n",
       "    </tr>\n",
       "    <tr>\n",
       "      <th>Price</th>\n",
       "      <td>0.034746</td>\n",
       "      <td>1.000000</td>\n",
       "    </tr>\n",
       "  </tbody>\n",
       "</table>\n",
       "</div>"
      ],
      "text/plain": [
       "          Rating     Price\n",
       "Rating  1.000000  0.034746\n",
       "Price   0.034746  1.000000"
      ]
     },
     "execution_count": 35,
     "metadata": {},
     "output_type": "execute_result"
    }
   ],
   "source": [
    "app_data[['Rating','Price']].corr()"
   ]
  },
  {
   "cell_type": "markdown",
   "metadata": {},
   "source": [
    "- Price vs Rating scatterplot suggests that highly priced applications do not tend to have low rating.\n",
    "- However, scatterplot does NOT indicate increase in rating with price. There are many free apps which have high rating."
   ]
  },
  {
   "cell_type": "markdown",
   "metadata": {},
   "source": [
    "**Rating vs Size**\n",
    "- Make scatter plot/joinplot for Rating vs. Size\n",
    "\n",
    "- Are heavier apps rated better?"
   ]
  },
  {
   "cell_type": "code",
   "execution_count": 36,
   "metadata": {},
   "outputs": [
    {
     "data": {
      "image/png": "[encoded data removed]",
      "text/plain": [
       "<Figure size 432x288 with 1 Axes>"
      ]
     },
     "metadata": {
      "needs_background": "light"
     },
     "output_type": "display_data"
    }
   ],
   "source": [
    "sns.scatterplot(x='Size',y='Rating',data=app_data);"
   ]
  },
  {
   "cell_type": "markdown",
   "metadata": {},
   "source": [
    "- Rating vs Size scatterplot suggests that heavy applications do not tend to have low rating.\n",
    "- However, scatterplot does NOT indicate increase in rating with application size. \n",
    "- There are many light applications which have high rating."
   ]
  },
  {
   "cell_type": "code",
   "execution_count": 37,
   "metadata": {
    "scrolled": true
   },
   "outputs": [
    {
     "data": {
      "text/html": [
       "<div>\n",
       "<style scoped>\n",
       "    .dataframe tbody tr th:only-of-type {\n",
       "        vertical-align: middle;\n",
       "    }\n",
       "\n",
       "    .dataframe tbody tr th {\n",
       "        vertical-align: top;\n",
       "    }\n",
       "\n",
       "    .dataframe thead th {\n",
       "        text-align: right;\n",
       "    }\n",
       "</style>\n",
       "<table border=\"1\" class=\"dataframe\">\n",
       "  <thead>\n",
       "    <tr style=\"text-align: right;\">\n",
       "      <th></th>\n",
       "      <th>Rating</th>\n",
       "      <th>Size</th>\n",
       "    </tr>\n",
       "  </thead>\n",
       "  <tbody>\n",
       "    <tr>\n",
       "      <th>Rating</th>\n",
       "      <td>1.000000</td>\n",
       "      <td>0.023833</td>\n",
       "    </tr>\n",
       "    <tr>\n",
       "      <th>Size</th>\n",
       "      <td>0.023833</td>\n",
       "      <td>1.000000</td>\n",
       "    </tr>\n",
       "  </tbody>\n",
       "</table>\n",
       "</div>"
      ],
      "text/plain": [
       "          Rating      Size\n",
       "Rating  1.000000  0.023833\n",
       "Size    0.023833  1.000000"
      ]
     },
     "execution_count": 37,
     "metadata": {},
     "output_type": "execute_result"
    }
   ],
   "source": [
    "app_data[['Rating','Size']].corr()"
   ]
  },
  {
   "cell_type": "markdown",
   "metadata": {},
   "source": [
    "**Rating vs Reviews**\n",
    "- Make scatter plot/joinplot for Rating vs. Reviews\n",
    "\n",
    "- Does more review mean a better rating always?"
   ]
  },
  {
   "cell_type": "code",
   "execution_count": 38,
   "metadata": {},
   "outputs": [
    {
     "data": {
      "image/png": "[encoded data removed]",
      "text/plain": [
       "<Figure size 432x288 with 1 Axes>"
      ]
     },
     "metadata": {
      "needs_background": "light"
     },
     "output_type": "display_data"
    }
   ],
   "source": [
    "sns.scatterplot(x='Reviews',y='Rating',data=app_data);"
   ]
  },
  {
   "cell_type": "code",
   "execution_count": 39,
   "metadata": {
    "scrolled": false
   },
   "outputs": [
    {
     "data": {
      "text/html": [
       "<div>\n",
       "<style scoped>\n",
       "    .dataframe tbody tr th:only-of-type {\n",
       "        vertical-align: middle;\n",
       "    }\n",
       "\n",
       "    .dataframe tbody tr th {\n",
       "        vertical-align: top;\n",
       "    }\n",
       "\n",
       "    .dataframe thead th {\n",
       "        text-align: right;\n",
       "    }\n",
       "</style>\n",
       "<table border=\"1\" class=\"dataframe\">\n",
       "  <thead>\n",
       "    <tr style=\"text-align: right;\">\n",
       "      <th></th>\n",
       "      <th>Rating</th>\n",
       "      <th>Reviews</th>\n",
       "    </tr>\n",
       "  </thead>\n",
       "  <tbody>\n",
       "    <tr>\n",
       "      <th>Rating</th>\n",
       "      <td>1.000000</td>\n",
       "      <td>0.137574</td>\n",
       "    </tr>\n",
       "    <tr>\n",
       "      <th>Reviews</th>\n",
       "      <td>0.137574</td>\n",
       "      <td>1.000000</td>\n",
       "    </tr>\n",
       "  </tbody>\n",
       "</table>\n",
       "</div>"
      ],
      "text/plain": [
       "           Rating   Reviews\n",
       "Rating   1.000000  0.137574\n",
       "Reviews  0.137574  1.000000"
      ]
     },
     "execution_count": 39,
     "metadata": {},
     "output_type": "execute_result"
    }
   ],
   "source": [
    "app_data[['Rating','Reviews']].corr()"
   ]
  },
  {
   "cell_type": "markdown",
   "metadata": {},
   "source": [
    "- Rating vs review scatterplot suggests that applications with more reviews tend to have reasonably high average rating.\n",
    "- However, scatterplot does NOT indicate this in all cases \n",
    "- There are many high rated applications with less number of reviews. "
   ]
  },
  {
   "cell_type": "markdown",
   "metadata": {},
   "source": [
    "**Rating vs Content Rating**\n",
    "- Make boxplot for Rating vs. Content Rating\n",
    "\n",
    "- Is there any difference in the ratings? Are some types liked better?"
   ]
  },
  {
   "cell_type": "code",
   "execution_count": 40,
   "metadata": {},
   "outputs": [
    {
     "data": {
      "text/plain": [
       "Everyone           4866\n",
       "Teen                546\n",
       "Mature 17+          285\n",
       "Everyone 10+        187\n",
       "Adults only 18+       2\n",
       "Unrated               1\n",
       "Name: Content Rating, dtype: int64"
      ]
     },
     "execution_count": 40,
     "metadata": {},
     "output_type": "execute_result"
    }
   ],
   "source": [
    "app_data['Content Rating'].value_counts()"
   ]
  },
  {
   "cell_type": "code",
   "execution_count": 41,
   "metadata": {
    "scrolled": false
   },
   "outputs": [
    {
     "data": {
      "image/png": "[encoded data removed]",
      "text/plain": [
       "<Figure size 720x432 with 1 Axes>"
      ]
     },
     "metadata": {
      "needs_background": "light"
     },
     "output_type": "display_data"
    }
   ],
   "source": [
    "app_data.boxplot(column='Rating',by='Content Rating', figsize=(10,6));"
   ]
  },
  {
   "cell_type": "markdown",
   "metadata": {},
   "source": [
    "- It is difficult to estimate the Rating of the application based on content rating"
   ]
  },
  {
   "cell_type": "markdown",
   "metadata": {},
   "source": [
    "**Ratings vs. Category**\n",
    "- Make boxplot for Ratings vs. Category\n",
    "- Which genre has the best ratings?\n",
    "\n"
   ]
  },
  {
   "cell_type": "code",
   "execution_count": 42,
   "metadata": {},
   "outputs": [
    {
     "data": {
      "text/plain": [
       "FAMILY                 1289\n",
       "TOOLS                   518\n",
       "GAME                    480\n",
       "MEDICAL                 318\n",
       "LIFESTYLE               241\n",
       "FINANCE                 232\n",
       "PERSONALIZATION         227\n",
       "BUSINESS                222\n",
       "PRODUCTIVITY            183\n",
       "HEALTH_AND_FITNESS      180\n",
       "SPORTS                  175\n",
       "DATING                  158\n",
       "COMMUNICATION           140\n",
       "NEWS_AND_MAGAZINES      140\n",
       "PHOTOGRAPHY             133\n",
       "BOOKS_AND_REFERENCE     129\n",
       "SOCIAL                  123\n",
       "TRAVEL_AND_LOCAL        118\n",
       "SHOPPING                107\n",
       "VIDEO_PLAYERS            82\n",
       "MAPS_AND_NAVIGATION      81\n",
       "EDUCATION                77\n",
       "FOOD_AND_DRINK           65\n",
       "AUTO_AND_VEHICLES        58\n",
       "LIBRARIES_AND_DEMO       55\n",
       "ART_AND_DESIGN           52\n",
       "ENTERTAINMENT            51\n",
       "HOUSE_AND_HOME           50\n",
       "COMICS                   47\n",
       "PARENTING                43\n",
       "WEATHER                  40\n",
       "EVENTS                   37\n",
       "BEAUTY                   36\n",
       "Name: Category, dtype: int64"
      ]
     },
     "execution_count": 42,
     "metadata": {},
     "output_type": "execute_result"
    }
   ],
   "source": [
    "app_data['Category'].value_counts()"
   ]
  },
  {
   "cell_type": "code",
   "execution_count": 43,
   "metadata": {},
   "outputs": [
    {
     "data": {
      "image/png": "[encoded data removed]",
      "text/plain": [
       "<Figure size 1440x432 with 1 Axes>"
      ]
     },
     "metadata": {
      "needs_background": "light"
     },
     "output_type": "display_data"
    }
   ],
   "source": [
    "fig7,ax7=plt.subplots(1,1, figsize=(20,6))\n",
    "app_data.boxplot(column='Rating',by='Category', ax=ax7);\n",
    "plt.xticks(rotation=90);"
   ]
  },
  {
   "cell_type": "markdown",
   "metadata": {},
   "source": [
    "- Some categories like events, parenting, personalization, beauty, books and references etc. seem to portray relatively high rating.\n",
    "- Some other categories like business, dating, tools, video players, photography, commonication etc. seem to have comparatively lower rating.\n",
    "- However, it is very difficult to determine/deduce the rating based on category alone"
   ]
  },
  {
   "cell_type": "markdown",
   "metadata": {},
   "source": [
    "For each of the plots above, note down your observation."
   ]
  },
  {
   "cell_type": "code",
   "execution_count": 44,
   "metadata": {},
   "outputs": [
    {
     "data": {
      "text/plain": [
       "Tools                                518\n",
       "Education                            385\n",
       "Entertainment                        376\n",
       "Medical                              318\n",
       "Lifestyle                            241\n",
       "                                    ... \n",
       "Parenting;Brain Games                  1\n",
       "Travel & Local;Action & Adventure      1\n",
       "Music & Audio;Music & Video            1\n",
       "Health & Fitness;Education             1\n",
       "Entertainment;Pretend Play             1\n",
       "Name: Genres, Length: 104, dtype: int64"
      ]
     },
     "execution_count": 44,
     "metadata": {},
     "output_type": "execute_result"
    }
   ],
   "source": [
    "app_data['Genres'].value_counts()"
   ]
  },
  {
   "cell_type": "code",
   "execution_count": null,
   "metadata": {},
   "outputs": [],
   "source": []
  },
  {
   "cell_type": "code",
   "execution_count": 45,
   "metadata": {},
   "outputs": [
    {
     "data": {
      "image/png": "[encoded data removed]",
      "text/plain": [
       "<Figure size 1440x432 with 1 Axes>"
      ]
     },
     "metadata": {
      "needs_background": "light"
     },
     "output_type": "display_data"
    }
   ],
   "source": [
    "fig8,ax8=plt.subplots(1,1, figsize=(20,6))\n",
    "app_data.boxplot(column='Rating',by='Genres', ax=ax8);\n",
    "plt.xticks(rotation=90);"
   ]
  },
  {
   "cell_type": "markdown",
   "metadata": {},
   "source": [
    "- Though Genre data is insufficient to estimate the rating, some highly rated genres include casual brain games, casual crativity, arcade pretend play, adventure/brain games, entertainment creativity, house and home, role playing action and adventure, Strategy education, stategy action and adventure etc."
   ]
  },
  {
   "cell_type": "markdown",
   "metadata": {},
   "source": [
    "### 8. Data preprocessing"
   ]
  },
  {
   "cell_type": "markdown",
   "metadata": {},
   "source": [
    "- For the steps below, create a copy of the dataframe to make all the edits. Name it inp1."
   ]
  },
  {
   "cell_type": "code",
   "execution_count": 46,
   "metadata": {},
   "outputs": [],
   "source": [
    "inp1=app_data.copy()"
   ]
  },
  {
   "cell_type": "code",
   "execution_count": 47,
   "metadata": {
    "scrolled": false
   },
   "outputs": [
    {
     "data": {
      "text/html": [
       "<div>\n",
       "<style scoped>\n",
       "    .dataframe tbody tr th:only-of-type {\n",
       "        vertical-align: middle;\n",
       "    }\n",
       "\n",
       "    .dataframe tbody tr th {\n",
       "        vertical-align: top;\n",
       "    }\n",
       "\n",
       "    .dataframe thead th {\n",
       "        text-align: right;\n",
       "    }\n",
       "</style>\n",
       "<table border=\"1\" class=\"dataframe\">\n",
       "  <thead>\n",
       "    <tr style=\"text-align: right;\">\n",
       "      <th></th>\n",
       "      <th>App</th>\n",
       "      <th>Category</th>\n",
       "      <th>Rating</th>\n",
       "      <th>Reviews</th>\n",
       "      <th>Size</th>\n",
       "      <th>Installs</th>\n",
       "      <th>Type</th>\n",
       "      <th>Price</th>\n",
       "      <th>Content Rating</th>\n",
       "      <th>Genres</th>\n",
       "      <th>Last Updated</th>\n",
       "      <th>Current Ver</th>\n",
       "      <th>Android Ver</th>\n",
       "    </tr>\n",
       "  </thead>\n",
       "  <tbody>\n",
       "    <tr>\n",
       "      <th>0</th>\n",
       "      <td>Photo Editor &amp; Candy Camera &amp; Grid &amp; ScrapBook</td>\n",
       "      <td>ART_AND_DESIGN</td>\n",
       "      <td>4.1</td>\n",
       "      <td>159</td>\n",
       "      <td>19000.0</td>\n",
       "      <td>10000</td>\n",
       "      <td>Free</td>\n",
       "      <td>0.0</td>\n",
       "      <td>Everyone</td>\n",
       "      <td>Art &amp; Design</td>\n",
       "      <td>January 7, 2018</td>\n",
       "      <td>1.0.0</td>\n",
       "      <td>4.0.3 and up</td>\n",
       "    </tr>\n",
       "    <tr>\n",
       "      <th>1</th>\n",
       "      <td>Coloring book moana</td>\n",
       "      <td>ART_AND_DESIGN</td>\n",
       "      <td>3.9</td>\n",
       "      <td>967</td>\n",
       "      <td>14000.0</td>\n",
       "      <td>500000</td>\n",
       "      <td>Free</td>\n",
       "      <td>0.0</td>\n",
       "      <td>Everyone</td>\n",
       "      <td>Art &amp; Design;Pretend Play</td>\n",
       "      <td>January 15, 2018</td>\n",
       "      <td>2.0.0</td>\n",
       "      <td>4.0.3 and up</td>\n",
       "    </tr>\n",
       "    <tr>\n",
       "      <th>2</th>\n",
       "      <td>Pixel Draw - Number Art Coloring Book</td>\n",
       "      <td>ART_AND_DESIGN</td>\n",
       "      <td>4.3</td>\n",
       "      <td>967</td>\n",
       "      <td>2.8</td>\n",
       "      <td>100000</td>\n",
       "      <td>Free</td>\n",
       "      <td>0.0</td>\n",
       "      <td>Everyone</td>\n",
       "      <td>Art &amp; Design;Creativity</td>\n",
       "      <td>June 20, 2018</td>\n",
       "      <td>1.1</td>\n",
       "      <td>4.4 and up</td>\n",
       "    </tr>\n",
       "    <tr>\n",
       "      <th>3</th>\n",
       "      <td>Paper flowers instructions</td>\n",
       "      <td>ART_AND_DESIGN</td>\n",
       "      <td>4.4</td>\n",
       "      <td>167</td>\n",
       "      <td>5.6</td>\n",
       "      <td>50000</td>\n",
       "      <td>Free</td>\n",
       "      <td>0.0</td>\n",
       "      <td>Everyone</td>\n",
       "      <td>Art &amp; Design</td>\n",
       "      <td>March 26, 2017</td>\n",
       "      <td>1.0</td>\n",
       "      <td>2.3 and up</td>\n",
       "    </tr>\n",
       "    <tr>\n",
       "      <th>4</th>\n",
       "      <td>Smoke Effect Photo Maker - Smoke Editor</td>\n",
       "      <td>ART_AND_DESIGN</td>\n",
       "      <td>3.8</td>\n",
       "      <td>178</td>\n",
       "      <td>19000.0</td>\n",
       "      <td>50000</td>\n",
       "      <td>Free</td>\n",
       "      <td>0.0</td>\n",
       "      <td>Everyone</td>\n",
       "      <td>Art &amp; Design</td>\n",
       "      <td>April 26, 2018</td>\n",
       "      <td>1.1</td>\n",
       "      <td>4.0.3 and up</td>\n",
       "    </tr>\n",
       "    <tr>\n",
       "      <th>...</th>\n",
       "      <td>...</td>\n",
       "      <td>...</td>\n",
       "      <td>...</td>\n",
       "      <td>...</td>\n",
       "      <td>...</td>\n",
       "      <td>...</td>\n",
       "      <td>...</td>\n",
       "      <td>...</td>\n",
       "      <td>...</td>\n",
       "      <td>...</td>\n",
       "      <td>...</td>\n",
       "      <td>...</td>\n",
       "      <td>...</td>\n",
       "    </tr>\n",
       "    <tr>\n",
       "      <th>5882</th>\n",
       "      <td>FR Tides</td>\n",
       "      <td>WEATHER</td>\n",
       "      <td>3.8</td>\n",
       "      <td>1195</td>\n",
       "      <td>582.0</td>\n",
       "      <td>100000</td>\n",
       "      <td>Free</td>\n",
       "      <td>0.0</td>\n",
       "      <td>Everyone</td>\n",
       "      <td>Weather</td>\n",
       "      <td>February 16, 2014</td>\n",
       "      <td>6.0</td>\n",
       "      <td>2.1 and up</td>\n",
       "    </tr>\n",
       "    <tr>\n",
       "      <th>5883</th>\n",
       "      <td>Chemin (fr)</td>\n",
       "      <td>BOOKS_AND_REFERENCE</td>\n",
       "      <td>4.8</td>\n",
       "      <td>44</td>\n",
       "      <td>619.0</td>\n",
       "      <td>1000</td>\n",
       "      <td>Free</td>\n",
       "      <td>0.0</td>\n",
       "      <td>Everyone</td>\n",
       "      <td>Books &amp; Reference</td>\n",
       "      <td>March 23, 2014</td>\n",
       "      <td>0.8</td>\n",
       "      <td>2.2 and up</td>\n",
       "    </tr>\n",
       "    <tr>\n",
       "      <th>5884</th>\n",
       "      <td>FR Calculator</td>\n",
       "      <td>FAMILY</td>\n",
       "      <td>4.0</td>\n",
       "      <td>7</td>\n",
       "      <td>2.6</td>\n",
       "      <td>500</td>\n",
       "      <td>Free</td>\n",
       "      <td>0.0</td>\n",
       "      <td>Everyone</td>\n",
       "      <td>Education</td>\n",
       "      <td>June 18, 2017</td>\n",
       "      <td>1.0.0</td>\n",
       "      <td>4.1 and up</td>\n",
       "    </tr>\n",
       "    <tr>\n",
       "      <th>5885</th>\n",
       "      <td>Sya9a Maroc - FR</td>\n",
       "      <td>FAMILY</td>\n",
       "      <td>4.5</td>\n",
       "      <td>38</td>\n",
       "      <td>53000.0</td>\n",
       "      <td>5000</td>\n",
       "      <td>Free</td>\n",
       "      <td>0.0</td>\n",
       "      <td>Everyone</td>\n",
       "      <td>Education</td>\n",
       "      <td>July 25, 2017</td>\n",
       "      <td>1.48</td>\n",
       "      <td>4.1 and up</td>\n",
       "    </tr>\n",
       "    <tr>\n",
       "      <th>5886</th>\n",
       "      <td>Fr. Mike Schmitz Audio Teachings</td>\n",
       "      <td>FAMILY</td>\n",
       "      <td>5.0</td>\n",
       "      <td>4</td>\n",
       "      <td>3.6</td>\n",
       "      <td>100</td>\n",
       "      <td>Free</td>\n",
       "      <td>0.0</td>\n",
       "      <td>Everyone</td>\n",
       "      <td>Education</td>\n",
       "      <td>July 6, 2018</td>\n",
       "      <td>1.0</td>\n",
       "      <td>4.1 and up</td>\n",
       "    </tr>\n",
       "  </tbody>\n",
       "</table>\n",
       "<p>5887 rows × 13 columns</p>\n",
       "</div>"
      ],
      "text/plain": [
       "                                                 App             Category  \\\n",
       "0     Photo Editor & Candy Camera & Grid & ScrapBook       ART_AND_DESIGN   \n",
       "1                                Coloring book moana       ART_AND_DESIGN   \n",
       "2              Pixel Draw - Number Art Coloring Book       ART_AND_DESIGN   \n",
       "3                         Paper flowers instructions       ART_AND_DESIGN   \n",
       "4            Smoke Effect Photo Maker - Smoke Editor       ART_AND_DESIGN   \n",
       "...                                              ...                  ...   \n",
       "5882                                        FR Tides              WEATHER   \n",
       "5883                                     Chemin (fr)  BOOKS_AND_REFERENCE   \n",
       "5884                                   FR Calculator               FAMILY   \n",
       "5885                                Sya9a Maroc - FR               FAMILY   \n",
       "5886                Fr. Mike Schmitz Audio Teachings               FAMILY   \n",
       "\n",
       "      Rating  Reviews     Size  Installs  Type  Price Content Rating  \\\n",
       "0        4.1      159  19000.0     10000  Free    0.0       Everyone   \n",
       "1        3.9      967  14000.0    500000  Free    0.0       Everyone   \n",
       "2        4.3      967      2.8    100000  Free    0.0       Everyone   \n",
       "3        4.4      167      5.6     50000  Free    0.0       Everyone   \n",
       "4        3.8      178  19000.0     50000  Free    0.0       Everyone   \n",
       "...      ...      ...      ...       ...   ...    ...            ...   \n",
       "5882     3.8     1195    582.0    100000  Free    0.0       Everyone   \n",
       "5883     4.8       44    619.0      1000  Free    0.0       Everyone   \n",
       "5884     4.0        7      2.6       500  Free    0.0       Everyone   \n",
       "5885     4.5       38  53000.0      5000  Free    0.0       Everyone   \n",
       "5886     5.0        4      3.6       100  Free    0.0       Everyone   \n",
       "\n",
       "                         Genres       Last Updated Current Ver   Android Ver  \n",
       "0                  Art & Design    January 7, 2018       1.0.0  4.0.3 and up  \n",
       "1     Art & Design;Pretend Play   January 15, 2018       2.0.0  4.0.3 and up  \n",
       "2       Art & Design;Creativity      June 20, 2018         1.1    4.4 and up  \n",
       "3                  Art & Design     March 26, 2017         1.0    2.3 and up  \n",
       "4                  Art & Design     April 26, 2018         1.1  4.0.3 and up  \n",
       "...                         ...                ...         ...           ...  \n",
       "5882                    Weather  February 16, 2014         6.0    2.1 and up  \n",
       "5883          Books & Reference     March 23, 2014         0.8    2.2 and up  \n",
       "5884                  Education      June 18, 2017       1.0.0    4.1 and up  \n",
       "5885                  Education      July 25, 2017        1.48    4.1 and up  \n",
       "5886                  Education       July 6, 2018         1.0    4.1 and up  \n",
       "\n",
       "[5887 rows x 13 columns]"
      ]
     },
     "execution_count": 47,
     "metadata": {},
     "output_type": "execute_result"
    }
   ],
   "source": [
    "inp1"
   ]
  },
  {
   "cell_type": "markdown",
   "metadata": {},
   "source": [
    "- Reviews and Install have some values that are still relatively very high. \n",
    "- Before building a linear regression model, you need to reduce the skew. \n",
    "- Apply log transformation (np.log1p) to Reviews and Installs.\n"
   ]
  },
  {
   "cell_type": "code",
   "execution_count": 48,
   "metadata": {},
   "outputs": [],
   "source": [
    "inp1.Reviews=np.log1p(inp1.Reviews);"
   ]
  },
  {
   "cell_type": "code",
   "execution_count": 49,
   "metadata": {},
   "outputs": [],
   "source": [
    "inp1.Installs=np.log1p(inp1.Installs);"
   ]
  },
  {
   "cell_type": "code",
   "execution_count": 50,
   "metadata": {},
   "outputs": [
    {
     "data": {
      "text/plain": [
       "0        9.210440\n",
       "1       13.122365\n",
       "2       11.512935\n",
       "3       10.819798\n",
       "4       10.819798\n",
       "          ...    \n",
       "5882    11.512935\n",
       "5883     6.908755\n",
       "5884     6.216606\n",
       "5885     8.517393\n",
       "5886     4.615121\n",
       "Name: Installs, Length: 5887, dtype: float64"
      ]
     },
     "execution_count": 50,
     "metadata": {},
     "output_type": "execute_result"
    }
   ],
   "source": [
    "inp1.Installs"
   ]
  },
  {
   "cell_type": "markdown",
   "metadata": {},
   "source": [
    "- Drop columns App, Last Updated, Current Ver, and Android Ver. These variables are not useful for our task."
   ]
  },
  {
   "cell_type": "code",
   "execution_count": 51,
   "metadata": {},
   "outputs": [],
   "source": [
    "inp1.drop(axis=1,columns=['App','Last Updated','Current Ver','Android Ver'], inplace=True)"
   ]
  },
  {
   "cell_type": "code",
   "execution_count": 52,
   "metadata": {},
   "outputs": [
    {
     "data": {
      "text/html": [
       "<div>\n",
       "<style scoped>\n",
       "    .dataframe tbody tr th:only-of-type {\n",
       "        vertical-align: middle;\n",
       "    }\n",
       "\n",
       "    .dataframe tbody tr th {\n",
       "        vertical-align: top;\n",
       "    }\n",
       "\n",
       "    .dataframe thead th {\n",
       "        text-align: right;\n",
       "    }\n",
       "</style>\n",
       "<table border=\"1\" class=\"dataframe\">\n",
       "  <thead>\n",
       "    <tr style=\"text-align: right;\">\n",
       "      <th></th>\n",
       "      <th>Category</th>\n",
       "      <th>Rating</th>\n",
       "      <th>Reviews</th>\n",
       "      <th>Size</th>\n",
       "      <th>Installs</th>\n",
       "      <th>Type</th>\n",
       "      <th>Price</th>\n",
       "      <th>Content Rating</th>\n",
       "      <th>Genres</th>\n",
       "    </tr>\n",
       "  </thead>\n",
       "  <tbody>\n",
       "    <tr>\n",
       "      <th>0</th>\n",
       "      <td>ART_AND_DESIGN</td>\n",
       "      <td>4.1</td>\n",
       "      <td>5.075174</td>\n",
       "      <td>19000.0</td>\n",
       "      <td>9.210440</td>\n",
       "      <td>Free</td>\n",
       "      <td>0.0</td>\n",
       "      <td>Everyone</td>\n",
       "      <td>Art &amp; Design</td>\n",
       "    </tr>\n",
       "    <tr>\n",
       "      <th>1</th>\n",
       "      <td>ART_AND_DESIGN</td>\n",
       "      <td>3.9</td>\n",
       "      <td>6.875232</td>\n",
       "      <td>14000.0</td>\n",
       "      <td>13.122365</td>\n",
       "      <td>Free</td>\n",
       "      <td>0.0</td>\n",
       "      <td>Everyone</td>\n",
       "      <td>Art &amp; Design;Pretend Play</td>\n",
       "    </tr>\n",
       "    <tr>\n",
       "      <th>2</th>\n",
       "      <td>ART_AND_DESIGN</td>\n",
       "      <td>4.3</td>\n",
       "      <td>6.875232</td>\n",
       "      <td>2.8</td>\n",
       "      <td>11.512935</td>\n",
       "      <td>Free</td>\n",
       "      <td>0.0</td>\n",
       "      <td>Everyone</td>\n",
       "      <td>Art &amp; Design;Creativity</td>\n",
       "    </tr>\n",
       "    <tr>\n",
       "      <th>3</th>\n",
       "      <td>ART_AND_DESIGN</td>\n",
       "      <td>4.4</td>\n",
       "      <td>5.123964</td>\n",
       "      <td>5.6</td>\n",
       "      <td>10.819798</td>\n",
       "      <td>Free</td>\n",
       "      <td>0.0</td>\n",
       "      <td>Everyone</td>\n",
       "      <td>Art &amp; Design</td>\n",
       "    </tr>\n",
       "    <tr>\n",
       "      <th>4</th>\n",
       "      <td>ART_AND_DESIGN</td>\n",
       "      <td>3.8</td>\n",
       "      <td>5.187386</td>\n",
       "      <td>19000.0</td>\n",
       "      <td>10.819798</td>\n",
       "      <td>Free</td>\n",
       "      <td>0.0</td>\n",
       "      <td>Everyone</td>\n",
       "      <td>Art &amp; Design</td>\n",
       "    </tr>\n",
       "    <tr>\n",
       "      <th>...</th>\n",
       "      <td>...</td>\n",
       "      <td>...</td>\n",
       "      <td>...</td>\n",
       "      <td>...</td>\n",
       "      <td>...</td>\n",
       "      <td>...</td>\n",
       "      <td>...</td>\n",
       "      <td>...</td>\n",
       "      <td>...</td>\n",
       "    </tr>\n",
       "    <tr>\n",
       "      <th>5882</th>\n",
       "      <td>WEATHER</td>\n",
       "      <td>3.8</td>\n",
       "      <td>7.086738</td>\n",
       "      <td>582.0</td>\n",
       "      <td>11.512935</td>\n",
       "      <td>Free</td>\n",
       "      <td>0.0</td>\n",
       "      <td>Everyone</td>\n",
       "      <td>Weather</td>\n",
       "    </tr>\n",
       "    <tr>\n",
       "      <th>5883</th>\n",
       "      <td>BOOKS_AND_REFERENCE</td>\n",
       "      <td>4.8</td>\n",
       "      <td>3.806662</td>\n",
       "      <td>619.0</td>\n",
       "      <td>6.908755</td>\n",
       "      <td>Free</td>\n",
       "      <td>0.0</td>\n",
       "      <td>Everyone</td>\n",
       "      <td>Books &amp; Reference</td>\n",
       "    </tr>\n",
       "    <tr>\n",
       "      <th>5884</th>\n",
       "      <td>FAMILY</td>\n",
       "      <td>4.0</td>\n",
       "      <td>2.079442</td>\n",
       "      <td>2.6</td>\n",
       "      <td>6.216606</td>\n",
       "      <td>Free</td>\n",
       "      <td>0.0</td>\n",
       "      <td>Everyone</td>\n",
       "      <td>Education</td>\n",
       "    </tr>\n",
       "    <tr>\n",
       "      <th>5885</th>\n",
       "      <td>FAMILY</td>\n",
       "      <td>4.5</td>\n",
       "      <td>3.663562</td>\n",
       "      <td>53000.0</td>\n",
       "      <td>8.517393</td>\n",
       "      <td>Free</td>\n",
       "      <td>0.0</td>\n",
       "      <td>Everyone</td>\n",
       "      <td>Education</td>\n",
       "    </tr>\n",
       "    <tr>\n",
       "      <th>5886</th>\n",
       "      <td>FAMILY</td>\n",
       "      <td>5.0</td>\n",
       "      <td>1.609438</td>\n",
       "      <td>3.6</td>\n",
       "      <td>4.615121</td>\n",
       "      <td>Free</td>\n",
       "      <td>0.0</td>\n",
       "      <td>Everyone</td>\n",
       "      <td>Education</td>\n",
       "    </tr>\n",
       "  </tbody>\n",
       "</table>\n",
       "<p>5887 rows × 9 columns</p>\n",
       "</div>"
      ],
      "text/plain": [
       "                 Category  Rating   Reviews     Size   Installs  Type  Price  \\\n",
       "0          ART_AND_DESIGN     4.1  5.075174  19000.0   9.210440  Free    0.0   \n",
       "1          ART_AND_DESIGN     3.9  6.875232  14000.0  13.122365  Free    0.0   \n",
       "2          ART_AND_DESIGN     4.3  6.875232      2.8  11.512935  Free    0.0   \n",
       "3          ART_AND_DESIGN     4.4  5.123964      5.6  10.819798  Free    0.0   \n",
       "4          ART_AND_DESIGN     3.8  5.187386  19000.0  10.819798  Free    0.0   \n",
       "...                   ...     ...       ...      ...        ...   ...    ...   \n",
       "5882              WEATHER     3.8  7.086738    582.0  11.512935  Free    0.0   \n",
       "5883  BOOKS_AND_REFERENCE     4.8  3.806662    619.0   6.908755  Free    0.0   \n",
       "5884               FAMILY     4.0  2.079442      2.6   6.216606  Free    0.0   \n",
       "5885               FAMILY     4.5  3.663562  53000.0   8.517393  Free    0.0   \n",
       "5886               FAMILY     5.0  1.609438      3.6   4.615121  Free    0.0   \n",
       "\n",
       "     Content Rating                     Genres  \n",
       "0          Everyone               Art & Design  \n",
       "1          Everyone  Art & Design;Pretend Play  \n",
       "2          Everyone    Art & Design;Creativity  \n",
       "3          Everyone               Art & Design  \n",
       "4          Everyone               Art & Design  \n",
       "...             ...                        ...  \n",
       "5882       Everyone                    Weather  \n",
       "5883       Everyone          Books & Reference  \n",
       "5884       Everyone                  Education  \n",
       "5885       Everyone                  Education  \n",
       "5886       Everyone                  Education  \n",
       "\n",
       "[5887 rows x 9 columns]"
      ]
     },
     "execution_count": 52,
     "metadata": {},
     "output_type": "execute_result"
    }
   ],
   "source": [
    "inp1"
   ]
  },
  {
   "cell_type": "markdown",
   "metadata": {},
   "source": [
    "- Get dummy columns for Category, Genres, and Content Rating. \n",
    "- This needs to be done as the models do not understand categorical data, and all data should be numeric. \n",
    "- Dummy encoding is one way to convert character fields to numeric. Name of dataframe should be inp2."
   ]
  },
  {
   "cell_type": "code",
   "execution_count": 53,
   "metadata": {},
   "outputs": [],
   "source": [
    "temp1=pd.get_dummies(inp1[['Category','Genres','Content Rating','Type']],drop_first=True);\n",
    "temp2=inp1[['Reviews','Size','Installs', 'Price','Rating']]"
   ]
  },
  {
   "cell_type": "code",
   "execution_count": 54,
   "metadata": {},
   "outputs": [],
   "source": [
    "inp2=pd.concat([temp1,temp2],axis=1,join='inner')"
   ]
  },
  {
   "cell_type": "code",
   "execution_count": 55,
   "metadata": {},
   "outputs": [
    {
     "name": "stdout",
     "output_type": "stream",
     "text": [
      "(5887, 141)\n",
      "(5887, 5)\n",
      "(5887, 146)\n"
     ]
    }
   ],
   "source": [
    "print(temp1.shape)\n",
    "print(temp2.shape)\n",
    "print(inp2.shape)"
   ]
  },
  {
   "cell_type": "markdown",
   "metadata": {},
   "source": [
    "###  9. Apply 70-30 split. (70% training data , 30% test data) Name the new dataframes df_train and df_test."
   ]
  },
  {
   "cell_type": "code",
   "execution_count": 56,
   "metadata": {},
   "outputs": [],
   "source": [
    "from sklearn.model_selection import train_test_split;"
   ]
  },
  {
   "cell_type": "code",
   "execution_count": 57,
   "metadata": {},
   "outputs": [],
   "source": [
    "df_train,df_test=train_test_split(inp2,test_size=0.3, random_state=0);"
   ]
  },
  {
   "cell_type": "code",
   "execution_count": 58,
   "metadata": {},
   "outputs": [
    {
     "name": "stdout",
     "output_type": "stream",
     "text": [
      "(4120, 146)\n",
      "(1767, 146)\n"
     ]
    }
   ],
   "source": [
    "print(df_train.shape)\n",
    "print(df_test.shape)"
   ]
  },
  {
   "cell_type": "markdown",
   "metadata": {},
   "source": [
    "### 10. Separate the dataframes into X_train, y_train, X_test, and y_test."
   ]
  },
  {
   "cell_type": "code",
   "execution_count": 59,
   "metadata": {},
   "outputs": [],
   "source": [
    "X_train=df_train.drop(axis=1,columns=['Rating']);\n",
    "y_train=df_train['Rating'];\n",
    "X_test=df_test.drop(axis=1,columns=['Rating']);\n",
    "y_test=df_test['Rating'];"
   ]
  },
  {
   "cell_type": "code",
   "execution_count": 60,
   "metadata": {},
   "outputs": [
    {
     "name": "stdout",
     "output_type": "stream",
     "text": [
      "(4120, 145)\n",
      "(4120,)\n",
      "(1767, 145)\n",
      "(1767,)\n"
     ]
    }
   ],
   "source": [
    "print(X_train.shape)\n",
    "print(y_train.shape)\n",
    "print(X_test.shape)\n",
    "print(y_test.shape)"
   ]
  },
  {
   "cell_type": "markdown",
   "metadata": {},
   "source": [
    "### 11 . Model building\n",
    "\n",
    "Use linear regression as the technique\n",
    "\n",
    "Report the R2 on the train set"
   ]
  },
  {
   "cell_type": "code",
   "execution_count": 61,
   "metadata": {},
   "outputs": [
    {
     "name": "stdout",
     "output_type": "stream",
     "text": [
      "R2 value on training set 0.14106110072732736\n",
      "[0.09702076 0.10559632 0.07585351 0.14849347 0.15121734 0.13028916\n",
      " 0.11267031 0.09170009 0.10023653 0.04723537]\n",
      "Mean cross validation score is using Simple Linear Regression 0.1060312841940341\n"
     ]
    }
   ],
   "source": [
    "from sklearn.linear_model import LinearRegression, Ridge;\n",
    "from sklearn.model_selection import cross_val_score,cross_val_predict, GridSearchCV\n",
    "\n",
    "lr_model=LinearRegression();\n",
    "lr_model.fit(X_train,y_train);\n",
    "print(\"R2 value on training set\",lr_model.score(X_train,y_train))\n",
    "#ridge_model=Ridge(a)\n",
    "print(cross_val_score(lr_model,X_train,y_train, cv=10))\n",
    "print(\"Mean cross validation score is using Simple Linear Regression\",np.mean(cross_val_score(lr_model,X_train,y_train, cv=10)))\n",
    "#print(cross_val_score(ridge_model,X_train,y_train, cv=10))"
   ]
  },
  {
   "cell_type": "markdown",
   "metadata": {},
   "source": [
    "### Let us try to improve R2 score using Ridge Regression with GridSearchCV on training data"
   ]
  },
  {
   "cell_type": "code",
   "execution_count": 62,
   "metadata": {
    "scrolled": true
   },
   "outputs": [
    {
     "data": {
      "text/plain": [
       "GridSearchCV(cv=10, estimator=Ridge(), n_jobs=-1,\n",
       "             param_grid=[{'alpha': [0, 0.1, 1, 10, 100],\n",
       "                          'normalize': [True, False],\n",
       "                          'solver': ['auto', 'svd']}])"
      ]
     },
     "execution_count": 62,
     "metadata": {},
     "output_type": "execute_result"
    }
   ],
   "source": [
    "ridge_model=Ridge()\n",
    "grid_learn1= GridSearchCV(ridge_model,param_grid=[{'alpha':[0,0.1,1,10,100],'normalize':[True,False],'solver':['auto','svd']}],n_jobs=-1,cv=10);\n",
    "grid_learn1.fit(X_train,y_train)"
   ]
  },
  {
   "cell_type": "code",
   "execution_count": 63,
   "metadata": {},
   "outputs": [
    {
     "data": {
      "text/plain": [
       "Ridge(alpha=10)"
      ]
     },
     "execution_count": 63,
     "metadata": {},
     "output_type": "execute_result"
    }
   ],
   "source": [
    "grid_learn1.best_estimator_"
   ]
  },
  {
   "cell_type": "code",
   "execution_count": 64,
   "metadata": {},
   "outputs": [
    {
     "data": {
      "text/plain": [
       "0.11361217008677219"
      ]
     },
     "execution_count": 64,
     "metadata": {},
     "output_type": "execute_result"
    }
   ],
   "source": [
    "grid_learn1.best_score_"
   ]
  },
  {
   "cell_type": "code",
   "execution_count": 65,
   "metadata": {},
   "outputs": [
    {
     "data": {
      "text/plain": [
       "array([-2.67998585e+24, -2.67998585e+24, -4.52392740e+19, -4.52392740e+19,\n",
       "        7.59891679e-02,  7.59891679e-02,  1.08314036e-01,  1.08314036e-01,\n",
       "        3.35015360e-02,  3.35015360e-02,  1.10935138e-01,  1.10935138e-01,\n",
       "        8.15617193e-03,  8.15617193e-03,  1.13612170e-01,  1.13612170e-01,\n",
       "       -1.88030788e-03, -1.88030788e-03,  1.10488995e-01,  1.10488995e-01])"
      ]
     },
     "execution_count": 65,
     "metadata": {},
     "output_type": "execute_result"
    }
   ],
   "source": [
    "grid_learn1.cv_results_['mean_test_score']"
   ]
  },
  {
   "cell_type": "code",
   "execution_count": 66,
   "metadata": {
    "scrolled": true
   },
   "outputs": [
    {
     "data": {
      "text/plain": [
       "[{'alpha': 0, 'normalize': True, 'solver': 'auto'},\n",
       " {'alpha': 0, 'normalize': True, 'solver': 'svd'},\n",
       " {'alpha': 0, 'normalize': False, 'solver': 'auto'},\n",
       " {'alpha': 0, 'normalize': False, 'solver': 'svd'},\n",
       " {'alpha': 0.1, 'normalize': True, 'solver': 'auto'},\n",
       " {'alpha': 0.1, 'normalize': True, 'solver': 'svd'},\n",
       " {'alpha': 0.1, 'normalize': False, 'solver': 'auto'},\n",
       " {'alpha': 0.1, 'normalize': False, 'solver': 'svd'},\n",
       " {'alpha': 1, 'normalize': True, 'solver': 'auto'},\n",
       " {'alpha': 1, 'normalize': True, 'solver': 'svd'},\n",
       " {'alpha': 1, 'normalize': False, 'solver': 'auto'},\n",
       " {'alpha': 1, 'normalize': False, 'solver': 'svd'},\n",
       " {'alpha': 10, 'normalize': True, 'solver': 'auto'},\n",
       " {'alpha': 10, 'normalize': True, 'solver': 'svd'},\n",
       " {'alpha': 10, 'normalize': False, 'solver': 'auto'},\n",
       " {'alpha': 10, 'normalize': False, 'solver': 'svd'},\n",
       " {'alpha': 100, 'normalize': True, 'solver': 'auto'},\n",
       " {'alpha': 100, 'normalize': True, 'solver': 'svd'},\n",
       " {'alpha': 100, 'normalize': False, 'solver': 'auto'},\n",
       " {'alpha': 100, 'normalize': False, 'solver': 'svd'}]"
      ]
     },
     "execution_count": 66,
     "metadata": {},
     "output_type": "execute_result"
    }
   ],
   "source": [
    "grid_learn1.cv_results_['params']"
   ]
  },
  {
   "cell_type": "markdown",
   "metadata": {},
   "source": [
    "#### In this case mean cross validation score for Ridge regression with alpha=10 is better than LinearRegression"
   ]
  },
  {
   "cell_type": "code",
   "execution_count": 67,
   "metadata": {},
   "outputs": [],
   "source": [
    "model_selected= Ridge(alpha=10);\n",
    "model_selected.fit(X_train,y_train);"
   ]
  },
  {
   "cell_type": "markdown",
   "metadata": {},
   "source": [
    "### 12. Make predictions on test set and report R2."
   ]
  },
  {
   "cell_type": "code",
   "execution_count": 68,
   "metadata": {},
   "outputs": [
    {
     "name": "stdout",
     "output_type": "stream",
     "text": [
      "R2 score for test set is 0.12267106985874476\n"
     ]
    }
   ],
   "source": [
    "print('R2 score for test set is' , model_selected.score(X_test,y_test))"
   ]
  },
  {
   "cell_type": "markdown",
   "metadata": {},
   "source": [
    "### R2 score during testing is even better than validation R2 score"
   ]
  },
  {
   "cell_type": "code",
   "execution_count": 69,
   "metadata": {},
   "outputs": [
    {
     "name": "stdout",
     "output_type": "stream",
     "text": [
      "Predicted ratings for test data=\n",
      "\n",
      "0       3.998050\n",
      "1       3.922237\n",
      "2       4.187497\n",
      "3       3.974717\n",
      "4       4.121654\n",
      "          ...   \n",
      "1762    3.913958\n",
      "1763    4.648926\n",
      "1764    3.880192\n",
      "1765    4.479485\n",
      "1766    3.896281\n",
      "Name: predictions, Length: 1767, dtype: float64\n"
     ]
    }
   ],
   "source": [
    "print(\"Predicted ratings for test data=\\n\")\n",
    "print(pd.Series(model_selected.predict(X_test),name='predictions'))"
   ]
  },
  {
   "cell_type": "code",
   "execution_count": 70,
   "metadata": {},
   "outputs": [
    {
     "data": {
      "text/plain": [
       "4886    3.3\n",
       "304     4.4\n",
       "4991    5.0\n",
       "3985    4.0\n",
       "1859    4.5\n",
       "       ... \n",
       "5609    3.8\n",
       "2134    4.7\n",
       "4553    4.6\n",
       "5248    5.0\n",
       "325     3.9\n",
       "Name: Rating, Length: 1767, dtype: float64"
      ]
     },
     "execution_count": 70,
     "metadata": {},
     "output_type": "execute_result"
    }
   ],
   "source": [
    "y_test"
   ]
  },
  {
   "cell_type": "code",
   "execution_count": 71,
   "metadata": {},
   "outputs": [],
   "source": [
    "y_hat=pd.Series(model_selected.predict(X_test),name='predictions')"
   ]
  },
  {
   "cell_type": "code",
   "execution_count": 72,
   "metadata": {},
   "outputs": [],
   "source": [
    "y_test.reset_index(inplace=True,drop=True)"
   ]
  },
  {
   "cell_type": "code",
   "execution_count": 73,
   "metadata": {},
   "outputs": [],
   "source": [
    "estimation_info=pd.concat([y_hat,y_test],axis=1,join='inner')"
   ]
  },
  {
   "cell_type": "code",
   "execution_count": 74,
   "metadata": {},
   "outputs": [
    {
     "data": {
      "text/html": [
       "<div>\n",
       "<style scoped>\n",
       "    .dataframe tbody tr th:only-of-type {\n",
       "        vertical-align: middle;\n",
       "    }\n",
       "\n",
       "    .dataframe tbody tr th {\n",
       "        vertical-align: top;\n",
       "    }\n",
       "\n",
       "    .dataframe thead th {\n",
       "        text-align: right;\n",
       "    }\n",
       "</style>\n",
       "<table border=\"1\" class=\"dataframe\">\n",
       "  <thead>\n",
       "    <tr style=\"text-align: right;\">\n",
       "      <th></th>\n",
       "      <th>predictions</th>\n",
       "      <th>Rating</th>\n",
       "    </tr>\n",
       "  </thead>\n",
       "  <tbody>\n",
       "    <tr>\n",
       "      <th>0</th>\n",
       "      <td>3.998050</td>\n",
       "      <td>3.3</td>\n",
       "    </tr>\n",
       "    <tr>\n",
       "      <th>1</th>\n",
       "      <td>3.922237</td>\n",
       "      <td>4.4</td>\n",
       "    </tr>\n",
       "    <tr>\n",
       "      <th>2</th>\n",
       "      <td>4.187497</td>\n",
       "      <td>5.0</td>\n",
       "    </tr>\n",
       "    <tr>\n",
       "      <th>3</th>\n",
       "      <td>3.974717</td>\n",
       "      <td>4.0</td>\n",
       "    </tr>\n",
       "    <tr>\n",
       "      <th>4</th>\n",
       "      <td>4.121654</td>\n",
       "      <td>4.5</td>\n",
       "    </tr>\n",
       "    <tr>\n",
       "      <th>...</th>\n",
       "      <td>...</td>\n",
       "      <td>...</td>\n",
       "    </tr>\n",
       "    <tr>\n",
       "      <th>1762</th>\n",
       "      <td>3.913958</td>\n",
       "      <td>3.8</td>\n",
       "    </tr>\n",
       "    <tr>\n",
       "      <th>1763</th>\n",
       "      <td>4.648926</td>\n",
       "      <td>4.7</td>\n",
       "    </tr>\n",
       "    <tr>\n",
       "      <th>1764</th>\n",
       "      <td>3.880192</td>\n",
       "      <td>4.6</td>\n",
       "    </tr>\n",
       "    <tr>\n",
       "      <th>1765</th>\n",
       "      <td>4.479485</td>\n",
       "      <td>5.0</td>\n",
       "    </tr>\n",
       "    <tr>\n",
       "      <th>1766</th>\n",
       "      <td>3.896281</td>\n",
       "      <td>3.9</td>\n",
       "    </tr>\n",
       "  </tbody>\n",
       "</table>\n",
       "<p>1767 rows × 2 columns</p>\n",
       "</div>"
      ],
      "text/plain": [
       "      predictions  Rating\n",
       "0        3.998050     3.3\n",
       "1        3.922237     4.4\n",
       "2        4.187497     5.0\n",
       "3        3.974717     4.0\n",
       "4        4.121654     4.5\n",
       "...           ...     ...\n",
       "1762     3.913958     3.8\n",
       "1763     4.648926     4.7\n",
       "1764     3.880192     4.6\n",
       "1765     4.479485     5.0\n",
       "1766     3.896281     3.9\n",
       "\n",
       "[1767 rows x 2 columns]"
      ]
     },
     "execution_count": 74,
     "metadata": {},
     "output_type": "execute_result"
    }
   ],
   "source": [
    "estimation_info"
   ]
  },
  {
   "cell_type": "code",
   "execution_count": null,
   "metadata": {},
   "outputs": [],
   "source": []
  }
 ],
 "metadata": {
  "interpreter": {
   "hash": "81794d4967e6c3204c66dcd87b604927b115b27c00565d3d43f05ba2f3a2cb0d"
  },
  "kernelspec": {
   "display_name": "Python 3.9.1 64-bit",
   "language": "python",
   "name": "python3"
  },
  "language_info": {
   "codemirror_mode": {
    "name": "ipython",
    "version": 3
   },
   "file_extension": ".py",
   "mimetype": "text/x-python",
   "name": "python",
   "nbconvert_exporter": "python",
   "pygments_lexer": "ipython3",
   "version": "3.9.1"
  }
 },
 "nbformat": 4,
 "nbformat_minor": 4
}
